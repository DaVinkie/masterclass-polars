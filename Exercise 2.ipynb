{
 "cells": [
  {
   "cell_type": "code",
   "execution_count": null,
   "id": "220e2fd6-a06c-4226-b59c-992ecf482632",
   "metadata": {},
   "outputs": [],
   "source": [
    "import polars as pl"
   ]
  },
  {
   "cell_type": "markdown",
   "id": "21082610-7324-404c-8ef8-77d7a50c7fef",
   "metadata": {},
   "source": [
    "# Contexts\n",
    "So now that you have seen the potential of Polars, it is time to play around with it a little. Let's start with its different contexts. First we load in a completely random data set that I might have had laying around on my hard drive somewhere. 😳\n",
    "\n",
    "Polars has extensive API documentation which you can find here: https://docs.pola.rs/"
   ]
  },
  {
   "cell_type": "code",
   "execution_count": null,
   "id": "62b2e5c1-ad0f-40a5-b7f9-535d6ba9f745",
   "metadata": {},
   "outputs": [],
   "source": [
    "df = pl.read_csv('data/Pokemon.csv')\n",
    "print(df.dtypes)\n",
    "print(df.columns)\n",
    "df.head(9)"
   ]
  },
  {
   "cell_type": "markdown",
   "id": "2f2f7648-bb0d-4494-b758-4306cd5d60cc",
   "metadata": {},
   "source": [
    "### Exercise 2a\n",
    "See? Completely random. The first context you will cover is column based selection. Now, I am a numbers guy, so try to get a new DataFrame consisting of only an identifier and Stat Information."
   ]
  },
  {
   "cell_type": "code",
   "execution_count": null,
   "id": "501de506-3726-411b-b6ae-d4ab9358dc7b",
   "metadata": {},
   "outputs": [],
   "source": [
    "stat_df = df.select(\n",
    "    # Implement this\n",
    ")\n",
    "\n",
    "stat_df"
   ]
  },
  {
   "cell_type": "markdown",
   "id": "8eb3156d-e592-44ee-99a8-8b16b520b36f",
   "metadata": {},
   "source": [
    "### Exercise 2b\n",
    "Fantastic! Now try to add two new columns to the original DataFrame. One that defines a Pokémon's Attack/Defence ratio, and another that defines its Sp. Atk/Sp. Def ratio."
   ]
  },
  {
   "cell_type": "code",
   "execution_count": null,
   "id": "75d5ef66-1dba-4685-95b7-029adabc2426",
   "metadata": {},
   "outputs": [],
   "source": [
    "ratio_df = df.with_columns(\n",
    "    # Implement this\n",
    ")\n",
    "\n",
    "ratio_df"
   ]
  },
  {
   "cell_type": "markdown",
   "id": "3c282d0d-8558-4edf-9c6a-c5b47e222d7c",
   "metadata": {},
   "source": [
    "# Filtering\n",
    "Now that we have some additional information, we can try to query our DataFrames by filtering. \n",
    "\n",
    "### Exercise 2c \n",
    "I love a good offensive Pokémon, that means it has high attack and/or special attack. So lets look at our DataFrame and try to filter out Pokémon so we remain with Pokémon that have an offensive stat *more than double the average*."
   ]
  },
  {
   "cell_type": "code",
   "execution_count": null,
   "id": "d4ce744e-e8c8-432b-b1c9-ed094ba9ef4c",
   "metadata": {},
   "outputs": [],
   "source": [
    "offensive_df = df.filter(\n",
    "    (pl.col(\"Attack\"))  # implement this\n",
    "    (pl.col(\"Sp. Atk\"))\n",
    ")\n",
    "\n",
    "offensive_df"
   ]
  },
  {
   "cell_type": "markdown",
   "id": "a3b5b794-6111-4385-a60e-b30193fe0cab",
   "metadata": {},
   "source": [
    "### Exercise 2d \n",
    "The most important stat in Pokémon is actually its Speed. Also, in general it is beneficial for Pokémon to have two types. Try to combine a couple of filters and find me the Pokémon with the following characteristics:\n",
    "* Better offensive stat than the median\n",
    "* Fast! (Stat of 100 or higher)\n",
    "* Has multiple types\n",
    "* Comes from my personal favorite generations: 2, 3 and 5"
   ]
  },
  {
   "cell_type": "code",
   "execution_count": null,
   "id": "ddba076e-833c-47cd-804c-99c05690c7b7",
   "metadata": {},
   "outputs": [],
   "source": [
    "best_df = df.filter(\n",
    "    # Implement this\n",
    ")\n",
    "\n",
    "best_df"
   ]
  },
  {
   "cell_type": "markdown",
   "id": "b03c412a-70d8-4860-8887-e38b5adaa521",
   "metadata": {},
   "source": [
    "# Expressions\n",
    "Great job! Now that you are somewhat familiar with the basics, it is time to take a leap of faith. Expressions are where it is AT! Polars is designed around an expressive API, which means that everything you should want has a native function (expression) or can be done by (endlessly) combining them.\n",
    "Let's give some a try.\n",
    "\n",
    "### Exercise 2e\n",
    "Currently, the generation is represented by an integer. This is actually quite silly, when you think about it, because currently there are only 9 known generations of Pokémon. Change the column typing to the more appropriate pl.Categorical.\n",
    "\n",
    "**Hint**: This requires an extra step. Remember, you can pipe expressions!"
   ]
  },
  {
   "cell_type": "code",
   "execution_count": null,
   "id": "92fdc09d-e4da-493d-9e1e-da3a0d974f14",
   "metadata": {},
   "outputs": [],
   "source": [
    "df = _ # Finish this"
   ]
  },
  {
   "cell_type": "markdown",
   "id": "ff9e5a96-a3c1-4657-93a4-5d1f9a33a5a2",
   "metadata": {},
   "source": [
    "### Exercise 2f\n",
    "You don't always have to write out entire column names to select them. Try the following things:\n",
    "- Select all columns except ID and Form.\n",
    "- Use regex to select columns starting with \"Sp\" (hint: regular expressions strings starting with '^' and ending with '$'\n",
    "- Select all stat columns based on their data type."
   ]
  },
  {
   "cell_type": "code",
   "execution_count": null,
   "id": "de2b385f-9efe-47d1-9052-caa3fd214dd2",
   "metadata": {},
   "outputs": [],
   "source": [
    "df_all_except = df.select(\n",
    "    # Implement this\n",
    ")\n",
    "\n",
    "print(df_all_except)\n",
    "\n",
    "df_sp = df.select(\n",
    "    # Implement this\n",
    ")\n",
    "\n",
    "print(df_sp)\n",
    "\n",
    "df_dtype = df.select(\n",
    "    # Implement this\n",
    ")\n",
    "\n",
    "print(df_dtype)"
   ]
  },
  {
   "cell_type": "markdown",
   "id": "c6dc839a-b3f3-45ba-a224-ac7247903264",
   "metadata": {},
   "source": [
    "### Exercise 2g\n",
    "Create three separate DataFrames of your top 3 favorite generations and concatenate them back together."
   ]
  },
  {
   "cell_type": "code",
   "execution_count": null,
   "id": "966c59f8-e38c-4251-9f30-c960b8f64099",
   "metadata": {},
   "outputs": [],
   "source": [
    "df_1 = _\n",
    "df_2 = _\n",
    "df_3 = _\n",
    "\n",
    "stack_df = _"
   ]
  },
  {
   "cell_type": "markdown",
   "id": "9fef1e97-114f-48b0-844b-2f247cdfe528",
   "metadata": {},
   "source": [
    "### Exercise 2h(ard)\n",
    "Create a DataFrame with the three Pokémon with the highest Attack stat per generation sorted by their speed stat.\n"
   ]
  },
  {
   "cell_type": "code",
   "execution_count": null,
   "id": "8bfb0e95-341e-4d3f-aaae-360229de26e3",
   "metadata": {},
   "outputs": [],
   "source": [
    "df_stronk = df... # Finish this"
   ]
  }
 ],
 "metadata": {
  "kernelspec": {
   "display_name": "Python 3 (ipykernel)",
   "language": "python",
   "name": "python3"
  },
  "language_info": {
   "codemirror_mode": {
    "name": "ipython",
    "version": 3
   },
   "file_extension": ".py",
   "mimetype": "text/x-python",
   "name": "python",
   "nbconvert_exporter": "python",
   "pygments_lexer": "ipython3",
   "version": "3.12.1"
  }
 },
 "nbformat": 4,
 "nbformat_minor": 5
}
