{
 "cells": [
  {
   "cell_type": "code",
   "execution_count": null,
   "id": "aa99083f-16d7-496e-83b4-24914682ef61",
   "metadata": {},
   "outputs": [],
   "source": []
  }
 ],
 "metadata": {
  "kernelspec": {
   "display_name": "",
   "name": ""
  },
  "language_info": {
   "name": ""
  }
 },
 "nbformat": 4,
 "nbformat_minor": 5
}
