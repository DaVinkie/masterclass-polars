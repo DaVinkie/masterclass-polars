{
 "cells": [
  {
   "cell_type": "code",
   "execution_count": 1,
   "id": "220e2fd6-a06c-4226-b59c-992ecf482632",
   "metadata": {},
   "outputs": [],
   "source": [
    "import polars as pl"
   ]
  },
  {
   "cell_type": "markdown",
   "id": "21082610-7324-404c-8ef8-77d7a50c7fef",
   "metadata": {},
   "source": [
    "# Contexts\n",
    "So now that you have seen the potential of Polars, it is time to play around with it a little. Let's start with its different contexts. First we load in a completely random data set that I might have had laying around on my hard drive somewhere. 😳\n",
    "\n",
    "Polars has extensive API documentation which you can find here: https://docs.pola.rs/"
   ]
  },
  {
   "cell_type": "code",
   "execution_count": 10,
   "id": "62b2e5c1-ad0f-40a5-b7f9-535d6ba9f745",
   "metadata": {},
   "outputs": [
    {
     "name": "stdout",
     "output_type": "stream",
     "text": [
      "[Int64, String, String, String, String, Int64, Int64, Int64, Int64, Int64, Int64, Int64, Int64]\n",
      "['ID', 'Name', 'Form', 'Type1', 'Type2', 'Total', 'HP', 'Attack', 'Defense', 'Sp. Atk', 'Sp. Def', 'Speed', 'Generation']\n"
     ]
    },
    {
     "data": {
      "text/html": [
       "<div><style>\n",
       ".dataframe > thead > tr,\n",
       ".dataframe > tbody > tr {\n",
       "  text-align: right;\n",
       "  white-space: pre-wrap;\n",
       "}\n",
       "</style>\n",
       "<small>shape: (9, 13)</small><table border=\"1\" class=\"dataframe\"><thead><tr><th>ID</th><th>Name</th><th>Form</th><th>Type1</th><th>Type2</th><th>Total</th><th>HP</th><th>Attack</th><th>Defense</th><th>Sp. Atk</th><th>Sp. Def</th><th>Speed</th><th>Generation</th></tr><tr><td>i64</td><td>str</td><td>str</td><td>str</td><td>str</td><td>i64</td><td>i64</td><td>i64</td><td>i64</td><td>i64</td><td>i64</td><td>i64</td><td>i64</td></tr></thead><tbody><tr><td>1</td><td>&quot;Bulbasaur&quot;</td><td>null</td><td>&quot;Grass&quot;</td><td>&quot;Poison&quot;</td><td>318</td><td>45</td><td>49</td><td>49</td><td>65</td><td>65</td><td>45</td><td>1</td></tr><tr><td>2</td><td>&quot;Ivysaur&quot;</td><td>null</td><td>&quot;Grass&quot;</td><td>&quot;Poison&quot;</td><td>405</td><td>60</td><td>62</td><td>63</td><td>80</td><td>80</td><td>60</td><td>1</td></tr><tr><td>3</td><td>&quot;Venusaur&quot;</td><td>null</td><td>&quot;Grass&quot;</td><td>&quot;Poison&quot;</td><td>525</td><td>80</td><td>82</td><td>83</td><td>100</td><td>100</td><td>80</td><td>1</td></tr><tr><td>4</td><td>&quot;Charmander&quot;</td><td>null</td><td>&quot;Fire&quot;</td><td>null</td><td>309</td><td>39</td><td>52</td><td>43</td><td>60</td><td>50</td><td>65</td><td>1</td></tr><tr><td>5</td><td>&quot;Charmeleon&quot;</td><td>null</td><td>&quot;Fire&quot;</td><td>null</td><td>405</td><td>58</td><td>64</td><td>58</td><td>80</td><td>65</td><td>80</td><td>1</td></tr><tr><td>6</td><td>&quot;Charizard&quot;</td><td>null</td><td>&quot;Fire&quot;</td><td>&quot;Flying&quot;</td><td>534</td><td>78</td><td>84</td><td>78</td><td>109</td><td>85</td><td>100</td><td>1</td></tr><tr><td>7</td><td>&quot;Squirtle&quot;</td><td>null</td><td>&quot;Water&quot;</td><td>null</td><td>314</td><td>44</td><td>48</td><td>65</td><td>50</td><td>64</td><td>43</td><td>1</td></tr><tr><td>8</td><td>&quot;Wartortle&quot;</td><td>null</td><td>&quot;Water&quot;</td><td>null</td><td>405</td><td>59</td><td>63</td><td>80</td><td>65</td><td>80</td><td>58</td><td>1</td></tr><tr><td>9</td><td>&quot;Blastoise&quot;</td><td>null</td><td>&quot;Water&quot;</td><td>null</td><td>530</td><td>79</td><td>83</td><td>100</td><td>85</td><td>105</td><td>78</td><td>1</td></tr></tbody></table></div>"
      ],
      "text/plain": [
       "shape: (9, 13)\n",
       "┌─────┬────────────┬──────┬───────┬───┬─────────┬─────────┬───────┬────────────┐\n",
       "│ ID  ┆ Name       ┆ Form ┆ Type1 ┆ … ┆ Sp. Atk ┆ Sp. Def ┆ Speed ┆ Generation │\n",
       "│ --- ┆ ---        ┆ ---  ┆ ---   ┆   ┆ ---     ┆ ---     ┆ ---   ┆ ---        │\n",
       "│ i64 ┆ str        ┆ str  ┆ str   ┆   ┆ i64     ┆ i64     ┆ i64   ┆ i64        │\n",
       "╞═════╪════════════╪══════╪═══════╪═══╪═════════╪═════════╪═══════╪════════════╡\n",
       "│ 1   ┆ Bulbasaur  ┆ null ┆ Grass ┆ … ┆ 65      ┆ 65      ┆ 45    ┆ 1          │\n",
       "│ 2   ┆ Ivysaur    ┆ null ┆ Grass ┆ … ┆ 80      ┆ 80      ┆ 60    ┆ 1          │\n",
       "│ 3   ┆ Venusaur   ┆ null ┆ Grass ┆ … ┆ 100     ┆ 100     ┆ 80    ┆ 1          │\n",
       "│ 4   ┆ Charmander ┆ null ┆ Fire  ┆ … ┆ 60      ┆ 50      ┆ 65    ┆ 1          │\n",
       "│ 5   ┆ Charmeleon ┆ null ┆ Fire  ┆ … ┆ 80      ┆ 65      ┆ 80    ┆ 1          │\n",
       "│ 6   ┆ Charizard  ┆ null ┆ Fire  ┆ … ┆ 109     ┆ 85      ┆ 100   ┆ 1          │\n",
       "│ 7   ┆ Squirtle   ┆ null ┆ Water ┆ … ┆ 50      ┆ 64      ┆ 43    ┆ 1          │\n",
       "│ 8   ┆ Wartortle  ┆ null ┆ Water ┆ … ┆ 65      ┆ 80      ┆ 58    ┆ 1          │\n",
       "│ 9   ┆ Blastoise  ┆ null ┆ Water ┆ … ┆ 85      ┆ 105     ┆ 78    ┆ 1          │\n",
       "└─────┴────────────┴──────┴───────┴───┴─────────┴─────────┴───────┴────────────┘"
      ]
     },
     "execution_count": 10,
     "metadata": {},
     "output_type": "execute_result"
    }
   ],
   "source": [
    "df = pl.read_csv('data/Pokemon.csv')\n",
    "print(df.dtypes)\n",
    "print(df.columns)\n",
    "df.head(9)"
   ]
  },
  {
   "cell_type": "markdown",
   "id": "2f2f7648-bb0d-4494-b758-4306cd5d60cc",
   "metadata": {},
   "source": [
    "### Exercise 2a\n",
    "See? Completely random. The first context you will cover is column based selection. Now, I am a numbers guy, so try to get a new DataFrame consisting of only an identifier and Stat Information."
   ]
  },
  {
   "cell_type": "code",
   "execution_count": null,
   "id": "501de506-3726-411b-b6ae-d4ab9358dc7b",
   "metadata": {},
   "outputs": [],
   "source": [
    "stat_df = df.filter(\n",
    "    # Implement this\n",
    ")\n",
    "\n",
    "stat_df"
   ]
  },
  {
   "cell_type": "markdown",
   "id": "8eb3156d-e592-44ee-99a8-8b16b520b36f",
   "metadata": {},
   "source": [
    "### Exercise 2b\n",
    "Fantastic! Now try to add two new columns to the original DataFrame. One that defines a Pokémon's Attack/Defence ratio, and another that defines its Sp. Atk/Sp. Def ratio."
   ]
  },
  {
   "cell_type": "code",
   "execution_count": null,
   "id": "75d5ef66-1dba-4685-95b7-029adabc2426",
   "metadata": {},
   "outputs": [],
   "source": [
    "ratio_df = df.with_columns(\n",
    "    # Implement this\n",
    ")\n",
    "\n",
    "ratio_df"
   ]
  },
  {
   "cell_type": "markdown",
   "id": "3c282d0d-8558-4edf-9c6a-c5b47e222d7c",
   "metadata": {},
   "source": [
    "# Filtering\n",
    "Now that we have some additional information, we can try to query our DataFrames by filtering. \n",
    "\n",
    "### Exercise 2c \n",
    "I love a good offensive Pokémon, that means it has high attack and/or special attack. So lets look in our DataFrame and try to filter out all Pokémon that have an offensive stat *lower than average*. "
   ]
  },
  {
   "cell_type": "code",
   "execution_count": null,
   "id": "d4ce744e-e8c8-432b-b1c9-ed094ba9ef4c",
   "metadata": {},
   "outputs": [],
   "source": [
    "offensive_df = df.filter(\n",
    "    (pl.col(\"Attack\"))  # implement this\n",
    "    (pl.col(\"Sp. Atk\"))\n",
    ")\n",
    "\n",
    "offensive_df"
   ]
  },
  {
   "cell_type": "markdown",
   "id": "a3b5b794-6111-4385-a60e-b30193fe0cab",
   "metadata": {},
   "source": [
    "### Exercise 2d \n",
    "The most important stat in Pokémon is actually its Speed. Also, in general it is beneficial for Pokémon to have two types. Try to combine a couple of filters and find me the Pokémon with the following characteristics:\n",
    "* Better offensive stat than average\n",
    "* Fast! (Stat over 100)\n",
    "* Has multiple types\n",
    "* Comes from my personal favorite generations: 2, 3 and 5"
   ]
  },
  {
   "cell_type": "code",
   "execution_count": null,
   "id": "ddba076e-833c-47cd-804c-99c05690c7b7",
   "metadata": {},
   "outputs": [],
   "source": [
    "best_df = df.filter(\n",
    "    # Implement this\n",
    ")\n",
    "\n",
    "best_df"
   ]
  },
  {
   "cell_type": "markdown",
   "id": "b03c412a-70d8-4860-8887-e38b5adaa521",
   "metadata": {},
   "source": [
    "# Expressions\n",
    "Great job! Now that you are somewhat familiar with the basics, it is time to take a leap of faith. Expressions are where it is AT! Polars is designed around an expressive API, which means that everything you should want has a native function (expression) or can be done by (endlessly) combining them.\n",
    "Let's give some a try.\n",
    "\n",
    "### Exercise 2e\n",
    "Currently, the generation is represented by an integer. This is actually quite silly, when you think about it, because currently there are only 9 known generations of Pokémon. Change the column typing to the more appropriate pl.Categorical."
   ]
  },
  {
   "cell_type": "code",
   "execution_count": null,
   "id": "92fdc09d-e4da-493d-9e1e-da3a0d974f14",
   "metadata": {},
   "outputs": [],
   "source": [
    "df = _ # Finish this"
   ]
  },
  {
   "cell_type": "markdown",
   "id": "ff9e5a96-a3c1-4657-93a4-5d1f9a33a5a2",
   "metadata": {},
   "source": [
    "### Exercise 2f\n",
    "You don't always have to write out entire column names to select them. Try the following things:\n",
    "- Select all columns except ID.\n",
    "- Use regex to select columns starting with \"sp\" (hint: regular expressions strings starting with '^' and ending with '$'\n",
    "- Select all stat columns based on their data type."
   ]
  },
  {
   "cell_type": "code",
   "execution_count": null,
   "id": "de2b385f-9efe-47d1-9052-caa3fd214dd2",
   "metadata": {},
   "outputs": [],
   "source": [
    "df_all_except = df.select(\n",
    "    # Implement this\n",
    ")\n",
    "\n",
    "df_sp = df.select(\n",
    "    # Implement this\n",
    ")\n",
    "\n",
    "df_dtype = df.select(\n",
    "    # Implement this\n",
    ")"
   ]
  },
  {
   "cell_type": "markdown",
   "id": "c6dc839a-b3f3-45ba-a224-ac7247903264",
   "metadata": {},
   "source": [
    "### Exercise 2g\n",
    "Create three separate DataFrames of your top 3 favorite generations and concatenate them back together."
   ]
  },
  {
   "cell_type": "code",
   "execution_count": null,
   "id": "966c59f8-e38c-4251-9f30-c960b8f64099",
   "metadata": {},
   "outputs": [],
   "source": [
    "df_1 = _\n",
    "df_2 = _\n",
    "df_3 = _\n",
    "\n",
    "df = _"
   ]
  },
  {
   "cell_type": "markdown",
   "id": "9fef1e97-114f-48b0-844b-2f247cdfe528",
   "metadata": {},
   "source": [
    "### Exercise 2h(ard)\n",
    "Create a DataFrame with the three Pokémon with the highest Attack stat per generation sorted by their speed stat.\n"
   ]
  },
  {
   "cell_type": "code",
   "execution_count": null,
   "id": "8bfb0e95-341e-4d3f-aaae-360229de26e3",
   "metadata": {},
   "outputs": [],
   "source": [
    "df_stronk = df... # Finish this"
   ]
  }
 ],
 "metadata": {
  "kernelspec": {
   "display_name": "Python 3 (ipykernel)",
   "language": "python",
   "name": "python3"
  },
  "language_info": {
   "codemirror_mode": {
    "name": "ipython",
    "version": 3
   },
   "file_extension": ".py",
   "mimetype": "text/x-python",
   "name": "python",
   "nbconvert_exporter": "python",
   "pygments_lexer": "ipython3",
   "version": "3.12.1"
  }
 },
 "nbformat": 4,
 "nbformat_minor": 5
}
