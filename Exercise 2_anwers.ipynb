{
 "cells": [
  {
   "cell_type": "code",
   "execution_count": 1,
   "id": "220e2fd6-a06c-4226-b59c-992ecf482632",
   "metadata": {},
   "outputs": [],
   "source": [
    "import polars as pl"
   ]
  },
  {
   "cell_type": "markdown",
   "id": "21082610-7324-404c-8ef8-77d7a50c7fef",
   "metadata": {},
   "source": [
    "# Contexts\n",
    "So now that you have seen the potential of Polars, it is time to play around with it a little. Let's start with its different contexts. First we load in a completely random data set that I might have had laying around on my hard drive somewhere. 😳\n",
    "\n",
    "Polars has extensive API documentation which you can find here: https://docs.pola.rs/"
   ]
  },
  {
   "cell_type": "code",
   "execution_count": 2,
   "id": "62b2e5c1-ad0f-40a5-b7f9-535d6ba9f745",
   "metadata": {},
   "outputs": [
    {
     "name": "stdout",
     "output_type": "stream",
     "text": [
      "[Int64, String, String, String, String, Int64, Int64, Int64, Int64, Int64, Int64, Int64, Int64]\n",
      "['ID', 'Name', 'Form', 'Type1', 'Type2', 'Total', 'HP', 'Attack', 'Defense', 'Sp. Atk', 'Sp. Def', 'Speed', 'Generation']\n"
     ]
    },
    {
     "data": {
      "text/html": [
       "<div><style>\n",
       ".dataframe > thead > tr,\n",
       ".dataframe > tbody > tr {\n",
       "  text-align: right;\n",
       "  white-space: pre-wrap;\n",
       "}\n",
       "</style>\n",
       "<small>shape: (9, 13)</small><table border=\"1\" class=\"dataframe\"><thead><tr><th>ID</th><th>Name</th><th>Form</th><th>Type1</th><th>Type2</th><th>Total</th><th>HP</th><th>Attack</th><th>Defense</th><th>Sp. Atk</th><th>Sp. Def</th><th>Speed</th><th>Generation</th></tr><tr><td>i64</td><td>str</td><td>str</td><td>str</td><td>str</td><td>i64</td><td>i64</td><td>i64</td><td>i64</td><td>i64</td><td>i64</td><td>i64</td><td>i64</td></tr></thead><tbody><tr><td>1</td><td>&quot;Bulbasaur&quot;</td><td>null</td><td>&quot;Grass&quot;</td><td>&quot;Poison&quot;</td><td>318</td><td>45</td><td>49</td><td>49</td><td>65</td><td>65</td><td>45</td><td>1</td></tr><tr><td>2</td><td>&quot;Ivysaur&quot;</td><td>null</td><td>&quot;Grass&quot;</td><td>&quot;Poison&quot;</td><td>405</td><td>60</td><td>62</td><td>63</td><td>80</td><td>80</td><td>60</td><td>1</td></tr><tr><td>3</td><td>&quot;Venusaur&quot;</td><td>null</td><td>&quot;Grass&quot;</td><td>&quot;Poison&quot;</td><td>525</td><td>80</td><td>82</td><td>83</td><td>100</td><td>100</td><td>80</td><td>1</td></tr><tr><td>4</td><td>&quot;Charmander&quot;</td><td>null</td><td>&quot;Fire&quot;</td><td>null</td><td>309</td><td>39</td><td>52</td><td>43</td><td>60</td><td>50</td><td>65</td><td>1</td></tr><tr><td>5</td><td>&quot;Charmeleon&quot;</td><td>null</td><td>&quot;Fire&quot;</td><td>null</td><td>405</td><td>58</td><td>64</td><td>58</td><td>80</td><td>65</td><td>80</td><td>1</td></tr><tr><td>6</td><td>&quot;Charizard&quot;</td><td>null</td><td>&quot;Fire&quot;</td><td>&quot;Flying&quot;</td><td>534</td><td>78</td><td>84</td><td>78</td><td>109</td><td>85</td><td>100</td><td>1</td></tr><tr><td>7</td><td>&quot;Squirtle&quot;</td><td>null</td><td>&quot;Water&quot;</td><td>null</td><td>314</td><td>44</td><td>48</td><td>65</td><td>50</td><td>64</td><td>43</td><td>1</td></tr><tr><td>8</td><td>&quot;Wartortle&quot;</td><td>null</td><td>&quot;Water&quot;</td><td>null</td><td>405</td><td>59</td><td>63</td><td>80</td><td>65</td><td>80</td><td>58</td><td>1</td></tr><tr><td>9</td><td>&quot;Blastoise&quot;</td><td>null</td><td>&quot;Water&quot;</td><td>null</td><td>530</td><td>79</td><td>83</td><td>100</td><td>85</td><td>105</td><td>78</td><td>1</td></tr></tbody></table></div>"
      ],
      "text/plain": [
       "shape: (9, 13)\n",
       "┌─────┬────────────┬──────┬───────┬───┬─────────┬─────────┬───────┬────────────┐\n",
       "│ ID  ┆ Name       ┆ Form ┆ Type1 ┆ … ┆ Sp. Atk ┆ Sp. Def ┆ Speed ┆ Generation │\n",
       "│ --- ┆ ---        ┆ ---  ┆ ---   ┆   ┆ ---     ┆ ---     ┆ ---   ┆ ---        │\n",
       "│ i64 ┆ str        ┆ str  ┆ str   ┆   ┆ i64     ┆ i64     ┆ i64   ┆ i64        │\n",
       "╞═════╪════════════╪══════╪═══════╪═══╪═════════╪═════════╪═══════╪════════════╡\n",
       "│ 1   ┆ Bulbasaur  ┆ null ┆ Grass ┆ … ┆ 65      ┆ 65      ┆ 45    ┆ 1          │\n",
       "│ 2   ┆ Ivysaur    ┆ null ┆ Grass ┆ … ┆ 80      ┆ 80      ┆ 60    ┆ 1          │\n",
       "│ 3   ┆ Venusaur   ┆ null ┆ Grass ┆ … ┆ 100     ┆ 100     ┆ 80    ┆ 1          │\n",
       "│ 4   ┆ Charmander ┆ null ┆ Fire  ┆ … ┆ 60      ┆ 50      ┆ 65    ┆ 1          │\n",
       "│ 5   ┆ Charmeleon ┆ null ┆ Fire  ┆ … ┆ 80      ┆ 65      ┆ 80    ┆ 1          │\n",
       "│ 6   ┆ Charizard  ┆ null ┆ Fire  ┆ … ┆ 109     ┆ 85      ┆ 100   ┆ 1          │\n",
       "│ 7   ┆ Squirtle   ┆ null ┆ Water ┆ … ┆ 50      ┆ 64      ┆ 43    ┆ 1          │\n",
       "│ 8   ┆ Wartortle  ┆ null ┆ Water ┆ … ┆ 65      ┆ 80      ┆ 58    ┆ 1          │\n",
       "│ 9   ┆ Blastoise  ┆ null ┆ Water ┆ … ┆ 85      ┆ 105     ┆ 78    ┆ 1          │\n",
       "└─────┴────────────┴──────┴───────┴───┴─────────┴─────────┴───────┴────────────┘"
      ]
     },
     "execution_count": 2,
     "metadata": {},
     "output_type": "execute_result"
    }
   ],
   "source": [
    "df = pl.read_csv('data/Pokemon.csv')\n",
    "print(df.dtypes)\n",
    "print(df.columns)\n",
    "df.head(9)"
   ]
  },
  {
   "cell_type": "markdown",
   "id": "2f2f7648-bb0d-4494-b758-4306cd5d60cc",
   "metadata": {},
   "source": [
    "### Exercise 2a\n",
    "See? Completely random. The first context you will cover is column based selection. Now, I am a numbers guy, so try to get a new DataFrame consisting of only an identifier and Stat Information."
   ]
  },
  {
   "cell_type": "code",
   "execution_count": 3,
   "id": "501de506-3726-411b-b6ae-d4ab9358dc7b",
   "metadata": {},
   "outputs": [
    {
     "data": {
      "text/html": [
       "<div><style>\n",
       ".dataframe > thead > tr,\n",
       ".dataframe > tbody > tr {\n",
       "  text-align: right;\n",
       "  white-space: pre-wrap;\n",
       "}\n",
       "</style>\n",
       "<small>shape: (1_194, 8)</small><table border=\"1\" class=\"dataframe\"><thead><tr><th>ID</th><th>Total</th><th>HP</th><th>Attack</th><th>Defense</th><th>Sp. Atk</th><th>Sp. Def</th><th>Speed</th></tr><tr><td>i64</td><td>i64</td><td>i64</td><td>i64</td><td>i64</td><td>i64</td><td>i64</td><td>i64</td></tr></thead><tbody><tr><td>1</td><td>318</td><td>45</td><td>49</td><td>49</td><td>65</td><td>65</td><td>45</td></tr><tr><td>2</td><td>405</td><td>60</td><td>62</td><td>63</td><td>80</td><td>80</td><td>60</td></tr><tr><td>3</td><td>525</td><td>80</td><td>82</td><td>83</td><td>100</td><td>100</td><td>80</td></tr><tr><td>4</td><td>309</td><td>39</td><td>52</td><td>43</td><td>60</td><td>50</td><td>65</td></tr><tr><td>5</td><td>405</td><td>58</td><td>64</td><td>58</td><td>80</td><td>65</td><td>80</td></tr><tr><td>6</td><td>534</td><td>78</td><td>84</td><td>78</td><td>109</td><td>85</td><td>100</td></tr><tr><td>7</td><td>314</td><td>44</td><td>48</td><td>65</td><td>50</td><td>64</td><td>43</td></tr><tr><td>8</td><td>405</td><td>59</td><td>63</td><td>80</td><td>65</td><td>80</td><td>58</td></tr><tr><td>9</td><td>530</td><td>79</td><td>83</td><td>100</td><td>85</td><td>105</td><td>78</td></tr><tr><td>10</td><td>195</td><td>45</td><td>30</td><td>35</td><td>20</td><td>20</td><td>45</td></tr><tr><td>11</td><td>205</td><td>50</td><td>20</td><td>55</td><td>25</td><td>25</td><td>30</td></tr><tr><td>12</td><td>395</td><td>60</td><td>45</td><td>50</td><td>90</td><td>80</td><td>70</td></tr><tr><td>&hellip;</td><td>&hellip;</td><td>&hellip;</td><td>&hellip;</td><td>&hellip;</td><td>&hellip;</td><td>&hellip;</td><td>&hellip;</td></tr><tr><td>999</td><td>300</td><td>45</td><td>30</td><td>25</td><td>75</td><td>45</td><td>80</td></tr><tr><td>1000</td><td>550</td><td>87</td><td>60</td><td>95</td><td>133</td><td>91</td><td>84</td></tr><tr><td>1001</td><td>570</td><td>85</td><td>85</td><td>100</td><td>95</td><td>135</td><td>70</td></tr><tr><td>1002</td><td>570</td><td>80</td><td>120</td><td>80</td><td>90</td><td>65</td><td>135</td></tr><tr><td>1003</td><td>570</td><td>155</td><td>110</td><td>125</td><td>55</td><td>80</td><td>45</td></tr><tr><td>1004</td><td>570</td><td>55</td><td>80</td><td>80</td><td>135</td><td>120</td><td>100</td></tr><tr><td>1005</td><td>590</td><td>105</td><td>139</td><td>71</td><td>55</td><td>101</td><td>119</td></tr><tr><td>1006</td><td>590</td><td>74</td><td>130</td><td>90</td><td>120</td><td>60</td><td>116</td></tr><tr><td>1007</td><td>670</td><td>100</td><td>135</td><td>115</td><td>85</td><td>100</td><td>135</td></tr><tr><td>1008</td><td>670</td><td>100</td><td>85</td><td>100</td><td>135</td><td>115</td><td>135</td></tr><tr><td>1009</td><td>590</td><td>99</td><td>83</td><td>91</td><td>125</td><td>83</td><td>109</td></tr><tr><td>1010</td><td>590</td><td>90</td><td>130</td><td>88</td><td>70</td><td>108</td><td>104</td></tr></tbody></table></div>"
      ],
      "text/plain": [
       "shape: (1_194, 8)\n",
       "┌──────┬───────┬─────┬────────┬─────────┬─────────┬─────────┬───────┐\n",
       "│ ID   ┆ Total ┆ HP  ┆ Attack ┆ Defense ┆ Sp. Atk ┆ Sp. Def ┆ Speed │\n",
       "│ ---  ┆ ---   ┆ --- ┆ ---    ┆ ---     ┆ ---     ┆ ---     ┆ ---   │\n",
       "│ i64  ┆ i64   ┆ i64 ┆ i64    ┆ i64     ┆ i64     ┆ i64     ┆ i64   │\n",
       "╞══════╪═══════╪═════╪════════╪═════════╪═════════╪═════════╪═══════╡\n",
       "│ 1    ┆ 318   ┆ 45  ┆ 49     ┆ 49      ┆ 65      ┆ 65      ┆ 45    │\n",
       "│ 2    ┆ 405   ┆ 60  ┆ 62     ┆ 63      ┆ 80      ┆ 80      ┆ 60    │\n",
       "│ 3    ┆ 525   ┆ 80  ┆ 82     ┆ 83      ┆ 100     ┆ 100     ┆ 80    │\n",
       "│ 4    ┆ 309   ┆ 39  ┆ 52     ┆ 43      ┆ 60      ┆ 50      ┆ 65    │\n",
       "│ 5    ┆ 405   ┆ 58  ┆ 64     ┆ 58      ┆ 80      ┆ 65      ┆ 80    │\n",
       "│ …    ┆ …     ┆ …   ┆ …      ┆ …       ┆ …       ┆ …       ┆ …     │\n",
       "│ 1006 ┆ 590   ┆ 74  ┆ 130    ┆ 90      ┆ 120     ┆ 60      ┆ 116   │\n",
       "│ 1007 ┆ 670   ┆ 100 ┆ 135    ┆ 115     ┆ 85      ┆ 100     ┆ 135   │\n",
       "│ 1008 ┆ 670   ┆ 100 ┆ 85     ┆ 100     ┆ 135     ┆ 115     ┆ 135   │\n",
       "│ 1009 ┆ 590   ┆ 99  ┆ 83     ┆ 91      ┆ 125     ┆ 83      ┆ 109   │\n",
       "│ 1010 ┆ 590   ┆ 90  ┆ 130    ┆ 88      ┆ 70      ┆ 108     ┆ 104   │\n",
       "└──────┴───────┴─────┴────────┴─────────┴─────────┴─────────┴───────┘"
      ]
     },
     "execution_count": 3,
     "metadata": {},
     "output_type": "execute_result"
    }
   ],
   "source": [
    "stat_df = df.select(\n",
    "    pl.col(\"ID\", \"Total\", \"HP\", \"Attack\", \"Defense\", \"Sp. Atk\", \"Sp. Def\", \"Speed\")\n",
    ")\n",
    "\n",
    "stat_df"
   ]
  },
  {
   "cell_type": "markdown",
   "id": "8eb3156d-e592-44ee-99a8-8b16b520b36f",
   "metadata": {},
   "source": [
    "### Exercise 2b\n",
    "Fantastic! Now try to add two new columns to the original DataFrame. One that defines a Pokémon's Attack/Defence ratio, and another that defines its Sp. Atk/Sp. Def ratio."
   ]
  },
  {
   "cell_type": "code",
   "execution_count": 4,
   "id": "75d5ef66-1dba-4685-95b7-029adabc2426",
   "metadata": {},
   "outputs": [
    {
     "data": {
      "text/html": [
       "<div><style>\n",
       ".dataframe > thead > tr,\n",
       ".dataframe > tbody > tr {\n",
       "  text-align: right;\n",
       "  white-space: pre-wrap;\n",
       "}\n",
       "</style>\n",
       "<small>shape: (1_194, 15)</small><table border=\"1\" class=\"dataframe\"><thead><tr><th>ID</th><th>Name</th><th>Form</th><th>Type1</th><th>Type2</th><th>Total</th><th>HP</th><th>Attack</th><th>Defense</th><th>Sp. Atk</th><th>Sp. Def</th><th>Speed</th><th>Generation</th><th>Att/Def Ratio</th><th>Sp.Att/Sp.Def Ratio</th></tr><tr><td>i64</td><td>str</td><td>str</td><td>str</td><td>str</td><td>i64</td><td>i64</td><td>i64</td><td>i64</td><td>i64</td><td>i64</td><td>i64</td><td>i64</td><td>f64</td><td>f64</td></tr></thead><tbody><tr><td>1</td><td>&quot;Bulbasaur&quot;</td><td>null</td><td>&quot;Grass&quot;</td><td>&quot;Poison&quot;</td><td>318</td><td>45</td><td>49</td><td>49</td><td>65</td><td>65</td><td>45</td><td>1</td><td>1.0</td><td>1.0</td></tr><tr><td>2</td><td>&quot;Ivysaur&quot;</td><td>null</td><td>&quot;Grass&quot;</td><td>&quot;Poison&quot;</td><td>405</td><td>60</td><td>62</td><td>63</td><td>80</td><td>80</td><td>60</td><td>1</td><td>0.984127</td><td>1.0</td></tr><tr><td>3</td><td>&quot;Venusaur&quot;</td><td>null</td><td>&quot;Grass&quot;</td><td>&quot;Poison&quot;</td><td>525</td><td>80</td><td>82</td><td>83</td><td>100</td><td>100</td><td>80</td><td>1</td><td>0.987952</td><td>1.0</td></tr><tr><td>4</td><td>&quot;Charmander&quot;</td><td>null</td><td>&quot;Fire&quot;</td><td>null</td><td>309</td><td>39</td><td>52</td><td>43</td><td>60</td><td>50</td><td>65</td><td>1</td><td>1.209302</td><td>1.2</td></tr><tr><td>5</td><td>&quot;Charmeleon&quot;</td><td>null</td><td>&quot;Fire&quot;</td><td>null</td><td>405</td><td>58</td><td>64</td><td>58</td><td>80</td><td>65</td><td>80</td><td>1</td><td>1.103448</td><td>1.230769</td></tr><tr><td>6</td><td>&quot;Charizard&quot;</td><td>null</td><td>&quot;Fire&quot;</td><td>&quot;Flying&quot;</td><td>534</td><td>78</td><td>84</td><td>78</td><td>109</td><td>85</td><td>100</td><td>1</td><td>1.076923</td><td>1.282353</td></tr><tr><td>7</td><td>&quot;Squirtle&quot;</td><td>null</td><td>&quot;Water&quot;</td><td>null</td><td>314</td><td>44</td><td>48</td><td>65</td><td>50</td><td>64</td><td>43</td><td>1</td><td>0.738462</td><td>0.78125</td></tr><tr><td>8</td><td>&quot;Wartortle&quot;</td><td>null</td><td>&quot;Water&quot;</td><td>null</td><td>405</td><td>59</td><td>63</td><td>80</td><td>65</td><td>80</td><td>58</td><td>1</td><td>0.7875</td><td>0.8125</td></tr><tr><td>9</td><td>&quot;Blastoise&quot;</td><td>null</td><td>&quot;Water&quot;</td><td>null</td><td>530</td><td>79</td><td>83</td><td>100</td><td>85</td><td>105</td><td>78</td><td>1</td><td>0.83</td><td>0.809524</td></tr><tr><td>10</td><td>&quot;Caterpie&quot;</td><td>null</td><td>&quot;Bug&quot;</td><td>null</td><td>195</td><td>45</td><td>30</td><td>35</td><td>20</td><td>20</td><td>45</td><td>1</td><td>0.857143</td><td>1.0</td></tr><tr><td>11</td><td>&quot;Metapod&quot;</td><td>null</td><td>&quot;Bug&quot;</td><td>null</td><td>205</td><td>50</td><td>20</td><td>55</td><td>25</td><td>25</td><td>30</td><td>1</td><td>0.363636</td><td>1.0</td></tr><tr><td>12</td><td>&quot;Butterfree&quot;</td><td>null</td><td>&quot;Bug&quot;</td><td>&quot;Flying&quot;</td><td>395</td><td>60</td><td>45</td><td>50</td><td>90</td><td>80</td><td>70</td><td>1</td><td>0.9</td><td>1.125</td></tr><tr><td>&hellip;</td><td>&hellip;</td><td>&hellip;</td><td>&hellip;</td><td>&hellip;</td><td>&hellip;</td><td>&hellip;</td><td>&hellip;</td><td>&hellip;</td><td>&hellip;</td><td>&hellip;</td><td>&hellip;</td><td>&hellip;</td><td>&hellip;</td><td>&hellip;</td></tr><tr><td>999</td><td>&quot;Gimmighoul&quot;</td><td>&quot;Roaming Form&quot;</td><td>&quot;Ghost&quot;</td><td>null</td><td>300</td><td>45</td><td>30</td><td>25</td><td>75</td><td>45</td><td>80</td><td>9</td><td>1.2</td><td>1.666667</td></tr><tr><td>1000</td><td>&quot;Gholdengo&quot;</td><td>null</td><td>&quot;Steel&quot;</td><td>&quot;Ghost&quot;</td><td>550</td><td>87</td><td>60</td><td>95</td><td>133</td><td>91</td><td>84</td><td>9</td><td>0.631579</td><td>1.461538</td></tr><tr><td>1001</td><td>&quot;Wo-Chien&quot;</td><td>null</td><td>&quot;Dark&quot;</td><td>&quot;Grass&quot;</td><td>570</td><td>85</td><td>85</td><td>100</td><td>95</td><td>135</td><td>70</td><td>9</td><td>0.85</td><td>0.703704</td></tr><tr><td>1002</td><td>&quot;Chien-Pao&quot;</td><td>null</td><td>&quot;Dark&quot;</td><td>&quot;Ice&quot;</td><td>570</td><td>80</td><td>120</td><td>80</td><td>90</td><td>65</td><td>135</td><td>9</td><td>1.5</td><td>1.384615</td></tr><tr><td>1003</td><td>&quot;Ting-Lu&quot;</td><td>null</td><td>&quot;Dark&quot;</td><td>&quot;Ground&quot;</td><td>570</td><td>155</td><td>110</td><td>125</td><td>55</td><td>80</td><td>45</td><td>9</td><td>0.88</td><td>0.6875</td></tr><tr><td>1004</td><td>&quot;Chi-Yu&quot;</td><td>null</td><td>&quot;Dark&quot;</td><td>&quot;Fire&quot;</td><td>570</td><td>55</td><td>80</td><td>80</td><td>135</td><td>120</td><td>100</td><td>9</td><td>1.0</td><td>1.125</td></tr><tr><td>1005</td><td>&quot;Roaring Moon&quot;</td><td>null</td><td>&quot;Dragon&quot;</td><td>&quot;Dark&quot;</td><td>590</td><td>105</td><td>139</td><td>71</td><td>55</td><td>101</td><td>119</td><td>9</td><td>1.957746</td><td>0.544554</td></tr><tr><td>1006</td><td>&quot;Iron Valiant&quot;</td><td>null</td><td>&quot;Fairy&quot;</td><td>&quot;Fighting&quot;</td><td>590</td><td>74</td><td>130</td><td>90</td><td>120</td><td>60</td><td>116</td><td>9</td><td>1.444444</td><td>2.0</td></tr><tr><td>1007</td><td>&quot;Koraidon&quot;</td><td>null</td><td>&quot;Fighting&quot;</td><td>&quot;Dragon&quot;</td><td>670</td><td>100</td><td>135</td><td>115</td><td>85</td><td>100</td><td>135</td><td>9</td><td>1.173913</td><td>0.85</td></tr><tr><td>1008</td><td>&quot;Miraidon&quot;</td><td>null</td><td>&quot;Electric&quot;</td><td>&quot;Dragon&quot;</td><td>670</td><td>100</td><td>85</td><td>100</td><td>135</td><td>115</td><td>135</td><td>9</td><td>0.85</td><td>1.173913</td></tr><tr><td>1009</td><td>&quot;Walking Wake&quot;</td><td>null</td><td>&quot;Water&quot;</td><td>&quot;Dragon&quot;</td><td>590</td><td>99</td><td>83</td><td>91</td><td>125</td><td>83</td><td>109</td><td>9</td><td>0.912088</td><td>1.506024</td></tr><tr><td>1010</td><td>&quot;Iron Leaves&quot;</td><td>null</td><td>&quot;Grass&quot;</td><td>&quot;Psychic&quot;</td><td>590</td><td>90</td><td>130</td><td>88</td><td>70</td><td>108</td><td>104</td><td>9</td><td>1.477273</td><td>0.648148</td></tr></tbody></table></div>"
      ],
      "text/plain": [
       "shape: (1_194, 15)\n",
       "┌──────┬──────────────┬──────┬──────────┬───┬───────┬────────────┬───────────────┬───────────────┐\n",
       "│ ID   ┆ Name         ┆ Form ┆ Type1    ┆ … ┆ Speed ┆ Generation ┆ Att/Def Ratio ┆ Sp.Att/Sp.Def │\n",
       "│ ---  ┆ ---          ┆ ---  ┆ ---      ┆   ┆ ---   ┆ ---        ┆ ---           ┆ Ratio         │\n",
       "│ i64  ┆ str          ┆ str  ┆ str      ┆   ┆ i64   ┆ i64        ┆ f64           ┆ ---           │\n",
       "│      ┆              ┆      ┆          ┆   ┆       ┆            ┆               ┆ f64           │\n",
       "╞══════╪══════════════╪══════╪══════════╪═══╪═══════╪════════════╪═══════════════╪═══════════════╡\n",
       "│ 1    ┆ Bulbasaur    ┆ null ┆ Grass    ┆ … ┆ 45    ┆ 1          ┆ 1.0           ┆ 1.0           │\n",
       "│ 2    ┆ Ivysaur      ┆ null ┆ Grass    ┆ … ┆ 60    ┆ 1          ┆ 0.984127      ┆ 1.0           │\n",
       "│ 3    ┆ Venusaur     ┆ null ┆ Grass    ┆ … ┆ 80    ┆ 1          ┆ 0.987952      ┆ 1.0           │\n",
       "│ 4    ┆ Charmander   ┆ null ┆ Fire     ┆ … ┆ 65    ┆ 1          ┆ 1.209302      ┆ 1.2           │\n",
       "│ 5    ┆ Charmeleon   ┆ null ┆ Fire     ┆ … ┆ 80    ┆ 1          ┆ 1.103448      ┆ 1.230769      │\n",
       "│ …    ┆ …            ┆ …    ┆ …        ┆ … ┆ …     ┆ …          ┆ …             ┆ …             │\n",
       "│ 1006 ┆ Iron Valiant ┆ null ┆ Fairy    ┆ … ┆ 116   ┆ 9          ┆ 1.444444      ┆ 2.0           │\n",
       "│ 1007 ┆ Koraidon     ┆ null ┆ Fighting ┆ … ┆ 135   ┆ 9          ┆ 1.173913      ┆ 0.85          │\n",
       "│ 1008 ┆ Miraidon     ┆ null ┆ Electric ┆ … ┆ 135   ┆ 9          ┆ 0.85          ┆ 1.173913      │\n",
       "│ 1009 ┆ Walking Wake ┆ null ┆ Water    ┆ … ┆ 109   ┆ 9          ┆ 0.912088      ┆ 1.506024      │\n",
       "│ 1010 ┆ Iron Leaves  ┆ null ┆ Grass    ┆ … ┆ 104   ┆ 9          ┆ 1.477273      ┆ 0.648148      │\n",
       "└──────┴──────────────┴──────┴──────────┴───┴───────┴────────────┴───────────────┴───────────────┘"
      ]
     },
     "execution_count": 4,
     "metadata": {},
     "output_type": "execute_result"
    }
   ],
   "source": [
    "ratio_df = df.with_columns(\n",
    "    (pl.col(\"Attack\")/pl.col(\"Defense\")).alias(\"Att/Def Ratio\"),\n",
    "    (pl.col(\"Sp. Atk\")/pl.col(\"Sp. Def\")).alias(\"Sp.Att/Sp.Def Ratio\"),\n",
    ")\n",
    "\n",
    "ratio_df"
   ]
  },
  {
   "cell_type": "markdown",
   "id": "3c282d0d-8558-4edf-9c6a-c5b47e222d7c",
   "metadata": {},
   "source": [
    "# Filtering\n",
    "Now that we have some additional information, we can try to query our DataFrames by filtering. \n",
    "\n",
    "### Exercise 2c \n",
    "I love a good offensive Pokémon, that means it has high attack and/or special attack. So lets look at our DataFrame and try to filter out Pokémon so we remain with Pokémon that have an offensive stat *more than double the average*."
   ]
  },
  {
   "cell_type": "code",
   "execution_count": 5,
   "id": "d4ce744e-e8c8-432b-b1c9-ed094ba9ef4c",
   "metadata": {},
   "outputs": [
    {
     "data": {
      "text/html": [
       "<div><style>\n",
       ".dataframe > thead > tr,\n",
       ".dataframe > tbody > tr {\n",
       "  text-align: right;\n",
       "  white-space: pre-wrap;\n",
       "}\n",
       "</style>\n",
       "<small>shape: (40, 13)</small><table border=\"1\" class=\"dataframe\"><thead><tr><th>ID</th><th>Name</th><th>Form</th><th>Type1</th><th>Type2</th><th>Total</th><th>HP</th><th>Attack</th><th>Defense</th><th>Sp. Atk</th><th>Sp. Def</th><th>Speed</th><th>Generation</th></tr><tr><td>i64</td><td>str</td><td>str</td><td>str</td><td>str</td><td>i64</td><td>i64</td><td>i64</td><td>i64</td><td>i64</td><td>i64</td><td>i64</td><td>i64</td></tr></thead><tbody><tr><td>150</td><td>&quot;Mewtwo&quot;</td><td>null</td><td>&quot;Psychic&quot;</td><td>null</td><td>680</td><td>106</td><td>110</td><td>90</td><td>154</td><td>90</td><td>130</td><td>1</td></tr><tr><td>382</td><td>&quot;Kyogre&quot;</td><td>null</td><td>&quot;Water&quot;</td><td>null</td><td>670</td><td>100</td><td>100</td><td>90</td><td>150</td><td>140</td><td>90</td><td>3</td></tr><tr><td>384</td><td>&quot;Rayquaza&quot;</td><td>null</td><td>&quot;Dragon&quot;</td><td>&quot;Flying&quot;</td><td>680</td><td>105</td><td>150</td><td>90</td><td>150</td><td>90</td><td>95</td><td>3</td></tr><tr><td>386</td><td>&quot;Deoxys&quot;</td><td>&quot;Normal Forme&quot;</td><td>&quot;Psychic&quot;</td><td>null</td><td>600</td><td>50</td><td>150</td><td>50</td><td>150</td><td>50</td><td>150</td><td>3</td></tr><tr><td>386</td><td>&quot;Deoxys&quot;</td><td>&quot;Attack Forme&quot;</td><td>&quot;Psychic&quot;</td><td>null</td><td>600</td><td>50</td><td>180</td><td>20</td><td>180</td><td>20</td><td>150</td><td>3</td></tr><tr><td>409</td><td>&quot;Rampardos&quot;</td><td>null</td><td>&quot;Rock&quot;</td><td>null</td><td>495</td><td>97</td><td>165</td><td>60</td><td>65</td><td>50</td><td>58</td><td>4</td></tr><tr><td>483</td><td>&quot;Dialga&quot;</td><td>null</td><td>&quot;Steel&quot;</td><td>&quot;Dragon&quot;</td><td>680</td><td>100</td><td>120</td><td>120</td><td>150</td><td>100</td><td>90</td><td>4</td></tr><tr><td>484</td><td>&quot;Palkia&quot;</td><td>null</td><td>&quot;Water&quot;</td><td>&quot;Dragon&quot;</td><td>680</td><td>90</td><td>120</td><td>100</td><td>150</td><td>120</td><td>100</td><td>4</td></tr><tr><td>643</td><td>&quot;Reshiram&quot;</td><td>null</td><td>&quot;Dragon&quot;</td><td>&quot;Fire&quot;</td><td>680</td><td>100</td><td>120</td><td>100</td><td>150</td><td>120</td><td>90</td><td>5</td></tr><tr><td>646</td><td>&quot;Kyurem&quot;</td><td>&quot;White Kyurem&quot;</td><td>&quot;Dragon&quot;</td><td>&quot;Ice&quot;</td><td>700</td><td>125</td><td>120</td><td>90</td><td>170</td><td>100</td><td>95</td><td>5</td></tr><tr><td>646</td><td>&quot;Kyurem&quot;</td><td>&quot;Black Kyurem&quot;</td><td>&quot;Dragon&quot;</td><td>&quot;Ice&quot;</td><td>700</td><td>125</td><td>170</td><td>100</td><td>120</td><td>90</td><td>95</td><td>5</td></tr><tr><td>6</td><td>&quot;Charizard&quot;</td><td>&quot;Mega Charizard…</td><td>&quot;Fire&quot;</td><td>&quot;Flying&quot;</td><td>634</td><td>78</td><td>104</td><td>78</td><td>159</td><td>115</td><td>100</td><td>6</td></tr><tr><td>&hellip;</td><td>&hellip;</td><td>&hellip;</td><td>&hellip;</td><td>&hellip;</td><td>&hellip;</td><td>&hellip;</td><td>&hellip;</td><td>&hellip;</td><td>&hellip;</td><td>&hellip;</td><td>&hellip;</td><td>&hellip;</td></tr><tr><td>720</td><td>&quot;Hoopa&quot;</td><td>&quot;Hoopa Confined…</td><td>&quot;Psychic&quot;</td><td>&quot;Ghost&quot;</td><td>600</td><td>80</td><td>110</td><td>60</td><td>150</td><td>130</td><td>70</td><td>6</td></tr><tr><td>720</td><td>&quot;Hoopa&quot;</td><td>&quot;Hoopa Unbound&quot;</td><td>&quot;Psychic&quot;</td><td>&quot;Dark&quot;</td><td>680</td><td>80</td><td>160</td><td>60</td><td>170</td><td>130</td><td>80</td><td>6</td></tr><tr><td>658</td><td>&quot;Greninja&quot;</td><td>&quot;Ash-Greninja&quot;</td><td>&quot;Water&quot;</td><td>&quot;Dark&quot;</td><td>640</td><td>72</td><td>145</td><td>67</td><td>153</td><td>71</td><td>132</td><td>7</td></tr><tr><td>796</td><td>&quot;Xurkitree&quot;</td><td>null</td><td>&quot;Electric&quot;</td><td>null</td><td>570</td><td>83</td><td>89</td><td>71</td><td>173</td><td>71</td><td>83</td><td>7</td></tr><tr><td>798</td><td>&quot;Kartana&quot;</td><td>null</td><td>&quot;Grass&quot;</td><td>&quot;Steel&quot;</td><td>570</td><td>59</td><td>181</td><td>131</td><td>59</td><td>31</td><td>109</td><td>7</td></tr><tr><td>800</td><td>&quot;Necrozma&quot;</td><td>&quot;Dawn Wings Nec…</td><td>&quot;Psychic&quot;</td><td>&quot;Ghost&quot;</td><td>680</td><td>97</td><td>113</td><td>109</td><td>157</td><td>127</td><td>77</td><td>7</td></tr><tr><td>800</td><td>&quot;Necrozma&quot;</td><td>&quot;Ultra Necrozma…</td><td>&quot;Psychic&quot;</td><td>&quot;Dragon&quot;</td><td>754</td><td>97</td><td>167</td><td>97</td><td>167</td><td>97</td><td>129</td><td>7</td></tr><tr><td>806</td><td>&quot;Blacephalon&quot;</td><td>null</td><td>&quot;Fire&quot;</td><td>&quot;Ghost&quot;</td><td>570</td><td>53</td><td>127</td><td>53</td><td>151</td><td>79</td><td>107</td><td>7</td></tr><tr><td>483</td><td>&quot;Dialga&quot;</td><td>&quot;Origin Forme&quot;</td><td>&quot;Steel&quot;</td><td>&quot;Dragon&quot;</td><td>680</td><td>100</td><td>100</td><td>120</td><td>150</td><td>120</td><td>90</td><td>8</td></tr><tr><td>484</td><td>&quot;Palkia&quot;</td><td>&quot;Origin Forme&quot;</td><td>&quot;Water&quot;</td><td>&quot;Dragon&quot;</td><td>680</td><td>90</td><td>100</td><td>100</td><td>150</td><td>120</td><td>120</td><td>8</td></tr><tr><td>898</td><td>&quot;Calyrex&quot;</td><td>&quot;Ice Rider&quot;</td><td>&quot;Psychic&quot;</td><td>&quot;Ice&quot;</td><td>680</td><td>100</td><td>165</td><td>150</td><td>85</td><td>130</td><td>50</td><td>8</td></tr><tr><td>898</td><td>&quot;Calyrex&quot;</td><td>&quot;Shadow Rider&quot;</td><td>&quot;Psychic&quot;</td><td>&quot;Ghost&quot;</td><td>680</td><td>100</td><td>85</td><td>80</td><td>165</td><td>100</td><td>150</td><td>8</td></tr></tbody></table></div>"
      ],
      "text/plain": [
       "shape: (40, 13)\n",
       "┌─────┬─────────────┬──────────────┬─────────┬───┬─────────┬─────────┬───────┬────────────┐\n",
       "│ ID  ┆ Name        ┆ Form         ┆ Type1   ┆ … ┆ Sp. Atk ┆ Sp. Def ┆ Speed ┆ Generation │\n",
       "│ --- ┆ ---         ┆ ---          ┆ ---     ┆   ┆ ---     ┆ ---     ┆ ---   ┆ ---        │\n",
       "│ i64 ┆ str         ┆ str          ┆ str     ┆   ┆ i64     ┆ i64     ┆ i64   ┆ i64        │\n",
       "╞═════╪═════════════╪══════════════╪═════════╪═══╪═════════╪═════════╪═══════╪════════════╡\n",
       "│ 150 ┆ Mewtwo      ┆ null         ┆ Psychic ┆ … ┆ 154     ┆ 90      ┆ 130   ┆ 1          │\n",
       "│ 382 ┆ Kyogre      ┆ null         ┆ Water   ┆ … ┆ 150     ┆ 140     ┆ 90    ┆ 3          │\n",
       "│ 384 ┆ Rayquaza    ┆ null         ┆ Dragon  ┆ … ┆ 150     ┆ 90      ┆ 95    ┆ 3          │\n",
       "│ 386 ┆ Deoxys      ┆ Normal Forme ┆ Psychic ┆ … ┆ 150     ┆ 50      ┆ 150   ┆ 3          │\n",
       "│ 386 ┆ Deoxys      ┆ Attack Forme ┆ Psychic ┆ … ┆ 180     ┆ 20      ┆ 150   ┆ 3          │\n",
       "│ …   ┆ …           ┆ …            ┆ …       ┆ … ┆ …       ┆ …       ┆ …     ┆ …          │\n",
       "│ 806 ┆ Blacephalon ┆ null         ┆ Fire    ┆ … ┆ 151     ┆ 79      ┆ 107   ┆ 7          │\n",
       "│ 483 ┆ Dialga      ┆ Origin Forme ┆ Steel   ┆ … ┆ 150     ┆ 120     ┆ 90    ┆ 8          │\n",
       "│ 484 ┆ Palkia      ┆ Origin Forme ┆ Water   ┆ … ┆ 150     ┆ 120     ┆ 120   ┆ 8          │\n",
       "│ 898 ┆ Calyrex     ┆ Ice Rider    ┆ Psychic ┆ … ┆ 85      ┆ 130     ┆ 50    ┆ 8          │\n",
       "│ 898 ┆ Calyrex     ┆ Shadow Rider ┆ Psychic ┆ … ┆ 165     ┆ 100     ┆ 150   ┆ 8          │\n",
       "└─────┴─────────────┴──────────────┴─────────┴───┴─────────┴─────────┴───────┴────────────┘"
      ]
     },
     "execution_count": 5,
     "metadata": {},
     "output_type": "execute_result"
    }
   ],
   "source": [
    "offensive_df = df.filter(\n",
    "    (pl.col(\"Attack\") > 2* pl.col(\"Attack\").mean()) |\n",
    "    (pl.col(\"Sp. Atk\") > 2 * pl.col(\"Sp. Atk\").mean())\n",
    ")\n",
    "\n",
    "offensive_df"
   ]
  },
  {
   "cell_type": "markdown",
   "id": "a3b5b794-6111-4385-a60e-b30193fe0cab",
   "metadata": {},
   "source": [
    "### Exercise 2d \n",
    "The most important stat in Pokémon is actually its Speed. Also, in general it is beneficial for Pokémon to have two types. Try to combine a couple of filters and find me the Pokémon with the following characteristics:\n",
    "* Better special attack stat than the median\n",
    "* Fast! (Stat of 100 or higher)\n",
    "* Has multiple types\n",
    "* Comes from my personal favorite generations: 2, 3 and 5"
   ]
  },
  {
   "cell_type": "code",
   "execution_count": 6,
   "id": "ddba076e-833c-47cd-804c-99c05690c7b7",
   "metadata": {},
   "outputs": [
    {
     "data": {
      "text/html": [
       "<div><style>\n",
       ".dataframe > thead > tr,\n",
       ".dataframe > tbody > tr {\n",
       "  text-align: right;\n",
       "  white-space: pre-wrap;\n",
       "}\n",
       "</style>\n",
       "<small>shape: (25, 13)</small><table border=\"1\" class=\"dataframe\"><thead><tr><th>ID</th><th>Name</th><th>Form</th><th>Type1</th><th>Type2</th><th>Total</th><th>HP</th><th>Attack</th><th>Defense</th><th>Sp. Atk</th><th>Sp. Def</th><th>Speed</th><th>Generation</th></tr><tr><td>i64</td><td>str</td><td>str</td><td>str</td><td>str</td><td>i64</td><td>i64</td><td>i64</td><td>i64</td><td>i64</td><td>i64</td><td>i64</td><td>i64</td></tr></thead><tbody><tr><td>169</td><td>&quot;Crobat&quot;</td><td>null</td><td>&quot;Poison&quot;</td><td>&quot;Flying&quot;</td><td>535</td><td>85</td><td>90</td><td>80</td><td>70</td><td>80</td><td>130</td><td>2</td></tr><tr><td>249</td><td>&quot;Lugia&quot;</td><td>null</td><td>&quot;Psychic&quot;</td><td>&quot;Flying&quot;</td><td>680</td><td>106</td><td>90</td><td>130</td><td>90</td><td>154</td><td>110</td><td>2</td></tr><tr><td>251</td><td>&quot;Celebi&quot;</td><td>null</td><td>&quot;Psychic&quot;</td><td>&quot;Grass&quot;</td><td>600</td><td>100</td><td>100</td><td>100</td><td>100</td><td>100</td><td>100</td><td>2</td></tr><tr><td>277</td><td>&quot;Swellow&quot;</td><td>null</td><td>&quot;Normal&quot;</td><td>&quot;Flying&quot;</td><td>455</td><td>60</td><td>85</td><td>60</td><td>75</td><td>50</td><td>125</td><td>3</td></tr><tr><td>330</td><td>&quot;Flygon&quot;</td><td>null</td><td>&quot;Ground&quot;</td><td>&quot;Dragon&quot;</td><td>520</td><td>80</td><td>100</td><td>80</td><td>80</td><td>80</td><td>100</td><td>3</td></tr><tr><td>373</td><td>&quot;Salamence&quot;</td><td>null</td><td>&quot;Dragon&quot;</td><td>&quot;Flying&quot;</td><td>600</td><td>95</td><td>135</td><td>80</td><td>110</td><td>80</td><td>100</td><td>3</td></tr><tr><td>380</td><td>&quot;Latias&quot;</td><td>null</td><td>&quot;Dragon&quot;</td><td>&quot;Psychic&quot;</td><td>600</td><td>80</td><td>80</td><td>90</td><td>110</td><td>130</td><td>110</td><td>3</td></tr><tr><td>381</td><td>&quot;Latios&quot;</td><td>null</td><td>&quot;Dragon&quot;</td><td>&quot;Psychic&quot;</td><td>600</td><td>80</td><td>90</td><td>80</td><td>130</td><td>110</td><td>110</td><td>3</td></tr><tr><td>385</td><td>&quot;Jirachi&quot;</td><td>null</td><td>&quot;Steel&quot;</td><td>&quot;Psychic&quot;</td><td>600</td><td>100</td><td>100</td><td>100</td><td>100</td><td>100</td><td>100</td><td>3</td></tr><tr><td>494</td><td>&quot;Victini&quot;</td><td>null</td><td>&quot;Psychic&quot;</td><td>&quot;Fire&quot;</td><td>600</td><td>100</td><td>100</td><td>100</td><td>100</td><td>100</td><td>100</td><td>5</td></tr><tr><td>528</td><td>&quot;Swoobat&quot;</td><td>null</td><td>&quot;Psychic&quot;</td><td>&quot;Flying&quot;</td><td>425</td><td>67</td><td>57</td><td>55</td><td>77</td><td>55</td><td>114</td><td>5</td></tr><tr><td>547</td><td>&quot;Whimsicott&quot;</td><td>null</td><td>&quot;Grass&quot;</td><td>&quot;Fairy&quot;</td><td>480</td><td>60</td><td>67</td><td>85</td><td>77</td><td>75</td><td>116</td><td>5</td></tr><tr><td>567</td><td>&quot;Archeops&quot;</td><td>null</td><td>&quot;Rock&quot;</td><td>&quot;Flying&quot;</td><td>567</td><td>75</td><td>140</td><td>65</td><td>112</td><td>65</td><td>110</td><td>5</td></tr><tr><td>587</td><td>&quot;Emolga&quot;</td><td>null</td><td>&quot;Electric&quot;</td><td>&quot;Flying&quot;</td><td>428</td><td>55</td><td>75</td><td>60</td><td>75</td><td>60</td><td>103</td><td>5</td></tr><tr><td>596</td><td>&quot;Galvantula&quot;</td><td>null</td><td>&quot;Bug&quot;</td><td>&quot;Electric&quot;</td><td>472</td><td>70</td><td>77</td><td>60</td><td>97</td><td>60</td><td>108</td><td>5</td></tr><tr><td>637</td><td>&quot;Volcarona&quot;</td><td>null</td><td>&quot;Bug&quot;</td><td>&quot;Fire&quot;</td><td>550</td><td>85</td><td>60</td><td>65</td><td>135</td><td>105</td><td>100</td><td>5</td></tr><tr><td>638</td><td>&quot;Cobalion&quot;</td><td>null</td><td>&quot;Steel&quot;</td><td>&quot;Fighting&quot;</td><td>580</td><td>91</td><td>90</td><td>129</td><td>90</td><td>72</td><td>108</td><td>5</td></tr><tr><td>639</td><td>&quot;Terrakion&quot;</td><td>null</td><td>&quot;Rock&quot;</td><td>&quot;Fighting&quot;</td><td>580</td><td>91</td><td>129</td><td>90</td><td>72</td><td>90</td><td>108</td><td>5</td></tr><tr><td>640</td><td>&quot;Virizion&quot;</td><td>null</td><td>&quot;Grass&quot;</td><td>&quot;Fighting&quot;</td><td>580</td><td>91</td><td>90</td><td>72</td><td>90</td><td>129</td><td>108</td><td>5</td></tr><tr><td>642</td><td>&quot;Thundurus&quot;</td><td>&quot;Incarnate Form…</td><td>&quot;Electric&quot;</td><td>&quot;Flying&quot;</td><td>580</td><td>79</td><td>115</td><td>70</td><td>125</td><td>80</td><td>111</td><td>5</td></tr><tr><td>642</td><td>&quot;Thundurus&quot;</td><td>&quot;Therian Forme&quot;</td><td>&quot;Electric&quot;</td><td>&quot;Flying&quot;</td><td>580</td><td>79</td><td>105</td><td>70</td><td>145</td><td>80</td><td>101</td><td>5</td></tr><tr><td>645</td><td>&quot;Landorus&quot;</td><td>&quot;Incarnate Form…</td><td>&quot;Ground&quot;</td><td>&quot;Flying&quot;</td><td>600</td><td>89</td><td>125</td><td>90</td><td>115</td><td>80</td><td>101</td><td>5</td></tr><tr><td>647</td><td>&quot;Keldeo&quot;</td><td>&quot;Ordinary Form&quot;</td><td>&quot;Water&quot;</td><td>&quot;Fighting&quot;</td><td>580</td><td>91</td><td>72</td><td>90</td><td>129</td><td>90</td><td>108</td><td>5</td></tr><tr><td>647</td><td>&quot;Keldeo&quot;</td><td>&quot;Resolute Form&quot;</td><td>&quot;Water&quot;</td><td>&quot;Fighting&quot;</td><td>580</td><td>91</td><td>72</td><td>90</td><td>129</td><td>90</td><td>108</td><td>5</td></tr><tr><td>648</td><td>&quot;Meloetta&quot;</td><td>&quot;Pirouette Form…</td><td>&quot;Normal&quot;</td><td>&quot;Fighting&quot;</td><td>600</td><td>100</td><td>128</td><td>90</td><td>77</td><td>77</td><td>128</td><td>5</td></tr></tbody></table></div>"
      ],
      "text/plain": [
       "shape: (25, 13)\n",
       "┌─────┬───────────┬─────────────────┬──────────┬───┬─────────┬─────────┬───────┬────────────┐\n",
       "│ ID  ┆ Name      ┆ Form            ┆ Type1    ┆ … ┆ Sp. Atk ┆ Sp. Def ┆ Speed ┆ Generation │\n",
       "│ --- ┆ ---       ┆ ---             ┆ ---      ┆   ┆ ---     ┆ ---     ┆ ---   ┆ ---        │\n",
       "│ i64 ┆ str       ┆ str             ┆ str      ┆   ┆ i64     ┆ i64     ┆ i64   ┆ i64        │\n",
       "╞═════╪═══════════╪═════════════════╪══════════╪═══╪═════════╪═════════╪═══════╪════════════╡\n",
       "│ 169 ┆ Crobat    ┆ null            ┆ Poison   ┆ … ┆ 70      ┆ 80      ┆ 130   ┆ 2          │\n",
       "│ 249 ┆ Lugia     ┆ null            ┆ Psychic  ┆ … ┆ 90      ┆ 154     ┆ 110   ┆ 2          │\n",
       "│ 251 ┆ Celebi    ┆ null            ┆ Psychic  ┆ … ┆ 100     ┆ 100     ┆ 100   ┆ 2          │\n",
       "│ 277 ┆ Swellow   ┆ null            ┆ Normal   ┆ … ┆ 75      ┆ 50      ┆ 125   ┆ 3          │\n",
       "│ 330 ┆ Flygon    ┆ null            ┆ Ground   ┆ … ┆ 80      ┆ 80      ┆ 100   ┆ 3          │\n",
       "│ …   ┆ …         ┆ …               ┆ …        ┆ … ┆ …       ┆ …       ┆ …     ┆ …          │\n",
       "│ 642 ┆ Thundurus ┆ Therian Forme   ┆ Electric ┆ … ┆ 145     ┆ 80      ┆ 101   ┆ 5          │\n",
       "│ 645 ┆ Landorus  ┆ Incarnate Forme ┆ Ground   ┆ … ┆ 115     ┆ 80      ┆ 101   ┆ 5          │\n",
       "│ 647 ┆ Keldeo    ┆ Ordinary Form   ┆ Water    ┆ … ┆ 129     ┆ 90      ┆ 108   ┆ 5          │\n",
       "│ 647 ┆ Keldeo    ┆ Resolute Form   ┆ Water    ┆ … ┆ 129     ┆ 90      ┆ 108   ┆ 5          │\n",
       "│ 648 ┆ Meloetta  ┆ Pirouette Forme ┆ Normal   ┆ … ┆ 77      ┆ 77      ┆ 128   ┆ 5          │\n",
       "└─────┴───────────┴─────────────────┴──────────┴───┴─────────┴─────────┴───────┴────────────┘"
      ]
     },
     "execution_count": 6,
     "metadata": {},
     "output_type": "execute_result"
    }
   ],
   "source": [
    "best_df = df.filter(\n",
    "    pl.col(\"Sp. Atk\") > pl.col(\"Sp. Atk\").median(),\n",
    "    pl.col(\"Speed\") >= 100,\n",
    "    pl.col(\"Type2\").is_not_null(),\n",
    "    pl.col(\"Generation\").is_in([2, 3, 5])\n",
    ")\n",
    "\n",
    "best_df"
   ]
  },
  {
   "cell_type": "markdown",
   "id": "b03c412a-70d8-4860-8887-e38b5adaa521",
   "metadata": {},
   "source": [
    "# Expressions\n",
    "Great job! Now that you are somewhat familiar with the basics, it is time to take a leap of faith. Expressions are where it is AT! Polars is designed around an expressive API, which means that everything you should want has a native function (expression) or can be done by (endlessly) combining them.\n",
    "Let's give some a try.\n",
    "\n",
    "### Exercise 2e\n",
    "Currently, the generation is represented by an integer. This is actually quite silly, when you think about it, because currently there are only 9 known generations of Pokémon. Change the column typing to the more appropriate pl.Categorical.\n",
    "\n",
    "**Hint**: This requires an extra step. Remember, you can pipe expressions!"
   ]
  },
  {
   "cell_type": "code",
   "execution_count": 7,
   "id": "92fdc09d-e4da-493d-9e1e-da3a0d974f14",
   "metadata": {},
   "outputs": [
    {
     "data": {
      "text/html": [
       "<div><style>\n",
       ".dataframe > thead > tr,\n",
       ".dataframe > tbody > tr {\n",
       "  text-align: right;\n",
       "  white-space: pre-wrap;\n",
       "}\n",
       "</style>\n",
       "<small>shape: (1_194, 13)</small><table border=\"1\" class=\"dataframe\"><thead><tr><th>ID</th><th>Name</th><th>Form</th><th>Type1</th><th>Type2</th><th>Total</th><th>HP</th><th>Attack</th><th>Defense</th><th>Sp. Atk</th><th>Sp. Def</th><th>Speed</th><th>Generation</th></tr><tr><td>i64</td><td>str</td><td>str</td><td>str</td><td>str</td><td>i64</td><td>i64</td><td>i64</td><td>i64</td><td>i64</td><td>i64</td><td>i64</td><td>cat</td></tr></thead><tbody><tr><td>1</td><td>&quot;Bulbasaur&quot;</td><td>null</td><td>&quot;Grass&quot;</td><td>&quot;Poison&quot;</td><td>318</td><td>45</td><td>49</td><td>49</td><td>65</td><td>65</td><td>45</td><td>&quot;1&quot;</td></tr><tr><td>2</td><td>&quot;Ivysaur&quot;</td><td>null</td><td>&quot;Grass&quot;</td><td>&quot;Poison&quot;</td><td>405</td><td>60</td><td>62</td><td>63</td><td>80</td><td>80</td><td>60</td><td>&quot;1&quot;</td></tr><tr><td>3</td><td>&quot;Venusaur&quot;</td><td>null</td><td>&quot;Grass&quot;</td><td>&quot;Poison&quot;</td><td>525</td><td>80</td><td>82</td><td>83</td><td>100</td><td>100</td><td>80</td><td>&quot;1&quot;</td></tr><tr><td>4</td><td>&quot;Charmander&quot;</td><td>null</td><td>&quot;Fire&quot;</td><td>null</td><td>309</td><td>39</td><td>52</td><td>43</td><td>60</td><td>50</td><td>65</td><td>&quot;1&quot;</td></tr><tr><td>5</td><td>&quot;Charmeleon&quot;</td><td>null</td><td>&quot;Fire&quot;</td><td>null</td><td>405</td><td>58</td><td>64</td><td>58</td><td>80</td><td>65</td><td>80</td><td>&quot;1&quot;</td></tr><tr><td>6</td><td>&quot;Charizard&quot;</td><td>null</td><td>&quot;Fire&quot;</td><td>&quot;Flying&quot;</td><td>534</td><td>78</td><td>84</td><td>78</td><td>109</td><td>85</td><td>100</td><td>&quot;1&quot;</td></tr><tr><td>7</td><td>&quot;Squirtle&quot;</td><td>null</td><td>&quot;Water&quot;</td><td>null</td><td>314</td><td>44</td><td>48</td><td>65</td><td>50</td><td>64</td><td>43</td><td>&quot;1&quot;</td></tr><tr><td>8</td><td>&quot;Wartortle&quot;</td><td>null</td><td>&quot;Water&quot;</td><td>null</td><td>405</td><td>59</td><td>63</td><td>80</td><td>65</td><td>80</td><td>58</td><td>&quot;1&quot;</td></tr><tr><td>9</td><td>&quot;Blastoise&quot;</td><td>null</td><td>&quot;Water&quot;</td><td>null</td><td>530</td><td>79</td><td>83</td><td>100</td><td>85</td><td>105</td><td>78</td><td>&quot;1&quot;</td></tr><tr><td>10</td><td>&quot;Caterpie&quot;</td><td>null</td><td>&quot;Bug&quot;</td><td>null</td><td>195</td><td>45</td><td>30</td><td>35</td><td>20</td><td>20</td><td>45</td><td>&quot;1&quot;</td></tr><tr><td>11</td><td>&quot;Metapod&quot;</td><td>null</td><td>&quot;Bug&quot;</td><td>null</td><td>205</td><td>50</td><td>20</td><td>55</td><td>25</td><td>25</td><td>30</td><td>&quot;1&quot;</td></tr><tr><td>12</td><td>&quot;Butterfree&quot;</td><td>null</td><td>&quot;Bug&quot;</td><td>&quot;Flying&quot;</td><td>395</td><td>60</td><td>45</td><td>50</td><td>90</td><td>80</td><td>70</td><td>&quot;1&quot;</td></tr><tr><td>&hellip;</td><td>&hellip;</td><td>&hellip;</td><td>&hellip;</td><td>&hellip;</td><td>&hellip;</td><td>&hellip;</td><td>&hellip;</td><td>&hellip;</td><td>&hellip;</td><td>&hellip;</td><td>&hellip;</td><td>&hellip;</td></tr><tr><td>999</td><td>&quot;Gimmighoul&quot;</td><td>&quot;Roaming Form&quot;</td><td>&quot;Ghost&quot;</td><td>null</td><td>300</td><td>45</td><td>30</td><td>25</td><td>75</td><td>45</td><td>80</td><td>&quot;9&quot;</td></tr><tr><td>1000</td><td>&quot;Gholdengo&quot;</td><td>null</td><td>&quot;Steel&quot;</td><td>&quot;Ghost&quot;</td><td>550</td><td>87</td><td>60</td><td>95</td><td>133</td><td>91</td><td>84</td><td>&quot;9&quot;</td></tr><tr><td>1001</td><td>&quot;Wo-Chien&quot;</td><td>null</td><td>&quot;Dark&quot;</td><td>&quot;Grass&quot;</td><td>570</td><td>85</td><td>85</td><td>100</td><td>95</td><td>135</td><td>70</td><td>&quot;9&quot;</td></tr><tr><td>1002</td><td>&quot;Chien-Pao&quot;</td><td>null</td><td>&quot;Dark&quot;</td><td>&quot;Ice&quot;</td><td>570</td><td>80</td><td>120</td><td>80</td><td>90</td><td>65</td><td>135</td><td>&quot;9&quot;</td></tr><tr><td>1003</td><td>&quot;Ting-Lu&quot;</td><td>null</td><td>&quot;Dark&quot;</td><td>&quot;Ground&quot;</td><td>570</td><td>155</td><td>110</td><td>125</td><td>55</td><td>80</td><td>45</td><td>&quot;9&quot;</td></tr><tr><td>1004</td><td>&quot;Chi-Yu&quot;</td><td>null</td><td>&quot;Dark&quot;</td><td>&quot;Fire&quot;</td><td>570</td><td>55</td><td>80</td><td>80</td><td>135</td><td>120</td><td>100</td><td>&quot;9&quot;</td></tr><tr><td>1005</td><td>&quot;Roaring Moon&quot;</td><td>null</td><td>&quot;Dragon&quot;</td><td>&quot;Dark&quot;</td><td>590</td><td>105</td><td>139</td><td>71</td><td>55</td><td>101</td><td>119</td><td>&quot;9&quot;</td></tr><tr><td>1006</td><td>&quot;Iron Valiant&quot;</td><td>null</td><td>&quot;Fairy&quot;</td><td>&quot;Fighting&quot;</td><td>590</td><td>74</td><td>130</td><td>90</td><td>120</td><td>60</td><td>116</td><td>&quot;9&quot;</td></tr><tr><td>1007</td><td>&quot;Koraidon&quot;</td><td>null</td><td>&quot;Fighting&quot;</td><td>&quot;Dragon&quot;</td><td>670</td><td>100</td><td>135</td><td>115</td><td>85</td><td>100</td><td>135</td><td>&quot;9&quot;</td></tr><tr><td>1008</td><td>&quot;Miraidon&quot;</td><td>null</td><td>&quot;Electric&quot;</td><td>&quot;Dragon&quot;</td><td>670</td><td>100</td><td>85</td><td>100</td><td>135</td><td>115</td><td>135</td><td>&quot;9&quot;</td></tr><tr><td>1009</td><td>&quot;Walking Wake&quot;</td><td>null</td><td>&quot;Water&quot;</td><td>&quot;Dragon&quot;</td><td>590</td><td>99</td><td>83</td><td>91</td><td>125</td><td>83</td><td>109</td><td>&quot;9&quot;</td></tr><tr><td>1010</td><td>&quot;Iron Leaves&quot;</td><td>null</td><td>&quot;Grass&quot;</td><td>&quot;Psychic&quot;</td><td>590</td><td>90</td><td>130</td><td>88</td><td>70</td><td>108</td><td>104</td><td>&quot;9&quot;</td></tr></tbody></table></div>"
      ],
      "text/plain": [
       "shape: (1_194, 13)\n",
       "┌──────┬──────────────┬──────┬──────────┬───┬─────────┬─────────┬───────┬────────────┐\n",
       "│ ID   ┆ Name         ┆ Form ┆ Type1    ┆ … ┆ Sp. Atk ┆ Sp. Def ┆ Speed ┆ Generation │\n",
       "│ ---  ┆ ---          ┆ ---  ┆ ---      ┆   ┆ ---     ┆ ---     ┆ ---   ┆ ---        │\n",
       "│ i64  ┆ str          ┆ str  ┆ str      ┆   ┆ i64     ┆ i64     ┆ i64   ┆ cat        │\n",
       "╞══════╪══════════════╪══════╪══════════╪═══╪═════════╪═════════╪═══════╪════════════╡\n",
       "│ 1    ┆ Bulbasaur    ┆ null ┆ Grass    ┆ … ┆ 65      ┆ 65      ┆ 45    ┆ 1          │\n",
       "│ 2    ┆ Ivysaur      ┆ null ┆ Grass    ┆ … ┆ 80      ┆ 80      ┆ 60    ┆ 1          │\n",
       "│ 3    ┆ Venusaur     ┆ null ┆ Grass    ┆ … ┆ 100     ┆ 100     ┆ 80    ┆ 1          │\n",
       "│ 4    ┆ Charmander   ┆ null ┆ Fire     ┆ … ┆ 60      ┆ 50      ┆ 65    ┆ 1          │\n",
       "│ 5    ┆ Charmeleon   ┆ null ┆ Fire     ┆ … ┆ 80      ┆ 65      ┆ 80    ┆ 1          │\n",
       "│ …    ┆ …            ┆ …    ┆ …        ┆ … ┆ …       ┆ …       ┆ …     ┆ …          │\n",
       "│ 1006 ┆ Iron Valiant ┆ null ┆ Fairy    ┆ … ┆ 120     ┆ 60      ┆ 116   ┆ 9          │\n",
       "│ 1007 ┆ Koraidon     ┆ null ┆ Fighting ┆ … ┆ 85      ┆ 100     ┆ 135   ┆ 9          │\n",
       "│ 1008 ┆ Miraidon     ┆ null ┆ Electric ┆ … ┆ 135     ┆ 115     ┆ 135   ┆ 9          │\n",
       "│ 1009 ┆ Walking Wake ┆ null ┆ Water    ┆ … ┆ 125     ┆ 83      ┆ 109   ┆ 9          │\n",
       "│ 1010 ┆ Iron Leaves  ┆ null ┆ Grass    ┆ … ┆ 70      ┆ 108     ┆ 104   ┆ 9          │\n",
       "└──────┴──────────────┴──────┴──────────┴───┴─────────┴─────────┴───────┴────────────┘"
      ]
     },
     "execution_count": 7,
     "metadata": {},
     "output_type": "execute_result"
    }
   ],
   "source": [
    "df = df.with_columns(\n",
    "    pl.col(\"Generation\").cast(pl.String).cast(pl.Categorical)\n",
    ")\n",
    "\n",
    "df"
   ]
  },
  {
   "cell_type": "markdown",
   "id": "ff9e5a96-a3c1-4657-93a4-5d1f9a33a5a2",
   "metadata": {},
   "source": [
    "### Exercise 2f\n",
    "You don't always have to write out entire column names to select them. Try the following things:\n",
    "- Select all columns except ID and Form.\n",
    "- Use regex to select columns starting with \"Sp\" (hint: regular expressions strings starting with '^' and ending with '$'\n",
    "- Select all stat columns based on their data type."
   ]
  },
  {
   "cell_type": "code",
   "execution_count": 8,
   "id": "de2b385f-9efe-47d1-9052-caa3fd214dd2",
   "metadata": {},
   "outputs": [
    {
     "name": "stdout",
     "output_type": "stream",
     "text": [
      "shape: (1_194, 11)\n",
      "┌──────────────┬──────────┬──────────┬───────┬───┬─────────┬─────────┬───────┬────────────┐\n",
      "│ Name         ┆ Type1    ┆ Type2    ┆ Total ┆ … ┆ Sp. Atk ┆ Sp. Def ┆ Speed ┆ Generation │\n",
      "│ ---          ┆ ---      ┆ ---      ┆ ---   ┆   ┆ ---     ┆ ---     ┆ ---   ┆ ---        │\n",
      "│ str          ┆ str      ┆ str      ┆ i64   ┆   ┆ i64     ┆ i64     ┆ i64   ┆ cat        │\n",
      "╞══════════════╪══════════╪══════════╪═══════╪═══╪═════════╪═════════╪═══════╪════════════╡\n",
      "│ Bulbasaur    ┆ Grass    ┆ Poison   ┆ 318   ┆ … ┆ 65      ┆ 65      ┆ 45    ┆ 1          │\n",
      "│ Ivysaur      ┆ Grass    ┆ Poison   ┆ 405   ┆ … ┆ 80      ┆ 80      ┆ 60    ┆ 1          │\n",
      "│ Venusaur     ┆ Grass    ┆ Poison   ┆ 525   ┆ … ┆ 100     ┆ 100     ┆ 80    ┆ 1          │\n",
      "│ Charmander   ┆ Fire     ┆ null     ┆ 309   ┆ … ┆ 60      ┆ 50      ┆ 65    ┆ 1          │\n",
      "│ Charmeleon   ┆ Fire     ┆ null     ┆ 405   ┆ … ┆ 80      ┆ 65      ┆ 80    ┆ 1          │\n",
      "│ …            ┆ …        ┆ …        ┆ …     ┆ … ┆ …       ┆ …       ┆ …     ┆ …          │\n",
      "│ Iron Valiant ┆ Fairy    ┆ Fighting ┆ 590   ┆ … ┆ 120     ┆ 60      ┆ 116   ┆ 9          │\n",
      "│ Koraidon     ┆ Fighting ┆ Dragon   ┆ 670   ┆ … ┆ 85      ┆ 100     ┆ 135   ┆ 9          │\n",
      "│ Miraidon     ┆ Electric ┆ Dragon   ┆ 670   ┆ … ┆ 135     ┆ 115     ┆ 135   ┆ 9          │\n",
      "│ Walking Wake ┆ Water    ┆ Dragon   ┆ 590   ┆ … ┆ 125     ┆ 83      ┆ 109   ┆ 9          │\n",
      "│ Iron Leaves  ┆ Grass    ┆ Psychic  ┆ 590   ┆ … ┆ 70      ┆ 108     ┆ 104   ┆ 9          │\n",
      "└──────────────┴──────────┴──────────┴───────┴───┴─────────┴─────────┴───────┴────────────┘\n",
      "shape: (1_194, 3)\n",
      "┌─────────┬─────────┬───────┐\n",
      "│ Sp. Atk ┆ Sp. Def ┆ Speed │\n",
      "│ ---     ┆ ---     ┆ ---   │\n",
      "│ i64     ┆ i64     ┆ i64   │\n",
      "╞═════════╪═════════╪═══════╡\n",
      "│ 65      ┆ 65      ┆ 45    │\n",
      "│ 80      ┆ 80      ┆ 60    │\n",
      "│ 100     ┆ 100     ┆ 80    │\n",
      "│ 60      ┆ 50      ┆ 65    │\n",
      "│ 80      ┆ 65      ┆ 80    │\n",
      "│ …       ┆ …       ┆ …     │\n",
      "│ 120     ┆ 60      ┆ 116   │\n",
      "│ 85      ┆ 100     ┆ 135   │\n",
      "│ 135     ┆ 115     ┆ 135   │\n",
      "│ 125     ┆ 83      ┆ 109   │\n",
      "│ 70      ┆ 108     ┆ 104   │\n",
      "└─────────┴─────────┴───────┘\n",
      "shape: (1_194, 8)\n",
      "┌──────┬───────┬─────┬────────┬─────────┬─────────┬─────────┬───────┐\n",
      "│ ID   ┆ Total ┆ HP  ┆ Attack ┆ Defense ┆ Sp. Atk ┆ Sp. Def ┆ Speed │\n",
      "│ ---  ┆ ---   ┆ --- ┆ ---    ┆ ---     ┆ ---     ┆ ---     ┆ ---   │\n",
      "│ i64  ┆ i64   ┆ i64 ┆ i64    ┆ i64     ┆ i64     ┆ i64     ┆ i64   │\n",
      "╞══════╪═══════╪═════╪════════╪═════════╪═════════╪═════════╪═══════╡\n",
      "│ 1    ┆ 318   ┆ 45  ┆ 49     ┆ 49      ┆ 65      ┆ 65      ┆ 45    │\n",
      "│ 2    ┆ 405   ┆ 60  ┆ 62     ┆ 63      ┆ 80      ┆ 80      ┆ 60    │\n",
      "│ 3    ┆ 525   ┆ 80  ┆ 82     ┆ 83      ┆ 100     ┆ 100     ┆ 80    │\n",
      "│ 4    ┆ 309   ┆ 39  ┆ 52     ┆ 43      ┆ 60      ┆ 50      ┆ 65    │\n",
      "│ 5    ┆ 405   ┆ 58  ┆ 64     ┆ 58      ┆ 80      ┆ 65      ┆ 80    │\n",
      "│ …    ┆ …     ┆ …   ┆ …      ┆ …       ┆ …       ┆ …       ┆ …     │\n",
      "│ 1006 ┆ 590   ┆ 74  ┆ 130    ┆ 90      ┆ 120     ┆ 60      ┆ 116   │\n",
      "│ 1007 ┆ 670   ┆ 100 ┆ 135    ┆ 115     ┆ 85      ┆ 100     ┆ 135   │\n",
      "│ 1008 ┆ 670   ┆ 100 ┆ 85     ┆ 100     ┆ 135     ┆ 115     ┆ 135   │\n",
      "│ 1009 ┆ 590   ┆ 99  ┆ 83     ┆ 91      ┆ 125     ┆ 83      ┆ 109   │\n",
      "│ 1010 ┆ 590   ┆ 90  ┆ 130    ┆ 88      ┆ 70      ┆ 108     ┆ 104   │\n",
      "└──────┴───────┴─────┴────────┴─────────┴─────────┴─────────┴───────┘\n"
     ]
    }
   ],
   "source": [
    "df_all_except = df.select(\n",
    "    pl.col(\"*\").exclude(\"ID\", \"Form\")\n",
    ")\n",
    "\n",
    "print(df_all_except)\n",
    "\n",
    "df_sp = df.select(\n",
    "    pl.col(\"^Sp.*$\")\n",
    ")\n",
    "\n",
    "print(df_sp)\n",
    "\n",
    "df_dtype = df.select(\n",
    "    pl.col(pl.Int64)\n",
    ")\n",
    "\n",
    "print(df_dtype)"
   ]
  },
  {
   "cell_type": "markdown",
   "id": "c6dc839a-b3f3-45ba-a224-ac7247903264",
   "metadata": {},
   "source": [
    "### Exercise 2g\n",
    "Create three separate DataFrames of your top 3 favorite generations and concatenate them back together."
   ]
  },
  {
   "cell_type": "code",
   "execution_count": 9,
   "id": "966c59f8-e38c-4251-9f30-c960b8f64099",
   "metadata": {},
   "outputs": [
    {
     "data": {
      "text/html": [
       "<div><style>\n",
       ".dataframe > thead > tr,\n",
       ".dataframe > tbody > tr {\n",
       "  text-align: right;\n",
       "  white-space: pre-wrap;\n",
       "}\n",
       "</style>\n",
       "<small>shape: (406, 13)</small><table border=\"1\" class=\"dataframe\"><thead><tr><th>ID</th><th>Name</th><th>Form</th><th>Type1</th><th>Type2</th><th>Total</th><th>HP</th><th>Attack</th><th>Defense</th><th>Sp. Atk</th><th>Sp. Def</th><th>Speed</th><th>Generation</th></tr><tr><td>i64</td><td>str</td><td>str</td><td>str</td><td>str</td><td>i64</td><td>i64</td><td>i64</td><td>i64</td><td>i64</td><td>i64</td><td>i64</td><td>cat</td></tr></thead><tbody><tr><td>152</td><td>&quot;Chikorita&quot;</td><td>null</td><td>&quot;Grass&quot;</td><td>null</td><td>318</td><td>45</td><td>49</td><td>65</td><td>49</td><td>65</td><td>45</td><td>&quot;2&quot;</td></tr><tr><td>153</td><td>&quot;Bayleef&quot;</td><td>null</td><td>&quot;Grass&quot;</td><td>null</td><td>405</td><td>60</td><td>62</td><td>80</td><td>63</td><td>80</td><td>60</td><td>&quot;2&quot;</td></tr><tr><td>154</td><td>&quot;Meganium&quot;</td><td>null</td><td>&quot;Grass&quot;</td><td>null</td><td>525</td><td>80</td><td>82</td><td>100</td><td>83</td><td>100</td><td>80</td><td>&quot;2&quot;</td></tr><tr><td>155</td><td>&quot;Cyndaquil&quot;</td><td>null</td><td>&quot;Fire&quot;</td><td>null</td><td>309</td><td>39</td><td>52</td><td>43</td><td>60</td><td>50</td><td>65</td><td>&quot;2&quot;</td></tr><tr><td>156</td><td>&quot;Quilava&quot;</td><td>null</td><td>&quot;Fire&quot;</td><td>null</td><td>405</td><td>58</td><td>64</td><td>58</td><td>80</td><td>65</td><td>80</td><td>&quot;2&quot;</td></tr><tr><td>157</td><td>&quot;Typhlosion&quot;</td><td>null</td><td>&quot;Fire&quot;</td><td>null</td><td>534</td><td>78</td><td>84</td><td>78</td><td>109</td><td>85</td><td>100</td><td>&quot;2&quot;</td></tr><tr><td>158</td><td>&quot;Totodile&quot;</td><td>null</td><td>&quot;Water&quot;</td><td>null</td><td>314</td><td>50</td><td>65</td><td>64</td><td>44</td><td>48</td><td>43</td><td>&quot;2&quot;</td></tr><tr><td>159</td><td>&quot;Croconaw&quot;</td><td>null</td><td>&quot;Water&quot;</td><td>null</td><td>405</td><td>65</td><td>80</td><td>80</td><td>59</td><td>63</td><td>58</td><td>&quot;2&quot;</td></tr><tr><td>160</td><td>&quot;Feraligatr&quot;</td><td>null</td><td>&quot;Water&quot;</td><td>null</td><td>530</td><td>85</td><td>105</td><td>100</td><td>79</td><td>83</td><td>78</td><td>&quot;2&quot;</td></tr><tr><td>161</td><td>&quot;Sentret&quot;</td><td>null</td><td>&quot;Normal&quot;</td><td>null</td><td>215</td><td>35</td><td>46</td><td>34</td><td>35</td><td>45</td><td>20</td><td>&quot;2&quot;</td></tr><tr><td>162</td><td>&quot;Furret&quot;</td><td>null</td><td>&quot;Normal&quot;</td><td>null</td><td>415</td><td>85</td><td>76</td><td>64</td><td>45</td><td>55</td><td>90</td><td>&quot;2&quot;</td></tr><tr><td>163</td><td>&quot;Hoothoot&quot;</td><td>null</td><td>&quot;Normal&quot;</td><td>&quot;Flying&quot;</td><td>262</td><td>60</td><td>30</td><td>30</td><td>36</td><td>56</td><td>50</td><td>&quot;2&quot;</td></tr><tr><td>&hellip;</td><td>&hellip;</td><td>&hellip;</td><td>&hellip;</td><td>&hellip;</td><td>&hellip;</td><td>&hellip;</td><td>&hellip;</td><td>&hellip;</td><td>&hellip;</td><td>&hellip;</td><td>&hellip;</td><td>&hellip;</td></tr><tr><td>643</td><td>&quot;Reshiram&quot;</td><td>null</td><td>&quot;Dragon&quot;</td><td>&quot;Fire&quot;</td><td>680</td><td>100</td><td>120</td><td>100</td><td>150</td><td>120</td><td>90</td><td>&quot;5&quot;</td></tr><tr><td>644</td><td>&quot;Zekrom&quot;</td><td>null</td><td>&quot;Dragon&quot;</td><td>&quot;Electric&quot;</td><td>680</td><td>100</td><td>150</td><td>120</td><td>120</td><td>100</td><td>90</td><td>&quot;5&quot;</td></tr><tr><td>645</td><td>&quot;Landorus&quot;</td><td>&quot;Incarnate Form…</td><td>&quot;Ground&quot;</td><td>&quot;Flying&quot;</td><td>600</td><td>89</td><td>125</td><td>90</td><td>115</td><td>80</td><td>101</td><td>&quot;5&quot;</td></tr><tr><td>645</td><td>&quot;Landorus&quot;</td><td>&quot;Therian Forme&quot;</td><td>&quot;Ground&quot;</td><td>&quot;Flying&quot;</td><td>600</td><td>89</td><td>145</td><td>90</td><td>105</td><td>80</td><td>91</td><td>&quot;5&quot;</td></tr><tr><td>646</td><td>&quot;Kyurem&quot;</td><td>null</td><td>&quot;Dragon&quot;</td><td>&quot;Ice&quot;</td><td>660</td><td>125</td><td>130</td><td>90</td><td>130</td><td>90</td><td>95</td><td>&quot;5&quot;</td></tr><tr><td>646</td><td>&quot;Kyurem&quot;</td><td>&quot;White Kyurem&quot;</td><td>&quot;Dragon&quot;</td><td>&quot;Ice&quot;</td><td>700</td><td>125</td><td>120</td><td>90</td><td>170</td><td>100</td><td>95</td><td>&quot;5&quot;</td></tr><tr><td>646</td><td>&quot;Kyurem&quot;</td><td>&quot;Black Kyurem&quot;</td><td>&quot;Dragon&quot;</td><td>&quot;Ice&quot;</td><td>700</td><td>125</td><td>170</td><td>100</td><td>120</td><td>90</td><td>95</td><td>&quot;5&quot;</td></tr><tr><td>647</td><td>&quot;Keldeo&quot;</td><td>&quot;Ordinary Form&quot;</td><td>&quot;Water&quot;</td><td>&quot;Fighting&quot;</td><td>580</td><td>91</td><td>72</td><td>90</td><td>129</td><td>90</td><td>108</td><td>&quot;5&quot;</td></tr><tr><td>647</td><td>&quot;Keldeo&quot;</td><td>&quot;Resolute Form&quot;</td><td>&quot;Water&quot;</td><td>&quot;Fighting&quot;</td><td>580</td><td>91</td><td>72</td><td>90</td><td>129</td><td>90</td><td>108</td><td>&quot;5&quot;</td></tr><tr><td>648</td><td>&quot;Meloetta&quot;</td><td>&quot;Aria Forme&quot;</td><td>&quot;Normal&quot;</td><td>&quot;Psychic&quot;</td><td>600</td><td>100</td><td>77</td><td>77</td><td>128</td><td>128</td><td>90</td><td>&quot;5&quot;</td></tr><tr><td>648</td><td>&quot;Meloetta&quot;</td><td>&quot;Pirouette Form…</td><td>&quot;Normal&quot;</td><td>&quot;Fighting&quot;</td><td>600</td><td>100</td><td>128</td><td>90</td><td>77</td><td>77</td><td>128</td><td>&quot;5&quot;</td></tr><tr><td>649</td><td>&quot;Genesect&quot;</td><td>null</td><td>&quot;Bug&quot;</td><td>&quot;Steel&quot;</td><td>600</td><td>71</td><td>120</td><td>95</td><td>120</td><td>95</td><td>99</td><td>&quot;5&quot;</td></tr></tbody></table></div>"
      ],
      "text/plain": [
       "shape: (406, 13)\n",
       "┌─────┬───────────┬─────────────────┬────────┬───┬─────────┬─────────┬───────┬────────────┐\n",
       "│ ID  ┆ Name      ┆ Form            ┆ Type1  ┆ … ┆ Sp. Atk ┆ Sp. Def ┆ Speed ┆ Generation │\n",
       "│ --- ┆ ---       ┆ ---             ┆ ---    ┆   ┆ ---     ┆ ---     ┆ ---   ┆ ---        │\n",
       "│ i64 ┆ str       ┆ str             ┆ str    ┆   ┆ i64     ┆ i64     ┆ i64   ┆ cat        │\n",
       "╞═════╪═══════════╪═════════════════╪════════╪═══╪═════════╪═════════╪═══════╪════════════╡\n",
       "│ 152 ┆ Chikorita ┆ null            ┆ Grass  ┆ … ┆ 49      ┆ 65      ┆ 45    ┆ 2          │\n",
       "│ 153 ┆ Bayleef   ┆ null            ┆ Grass  ┆ … ┆ 63      ┆ 80      ┆ 60    ┆ 2          │\n",
       "│ 154 ┆ Meganium  ┆ null            ┆ Grass  ┆ … ┆ 83      ┆ 100     ┆ 80    ┆ 2          │\n",
       "│ 155 ┆ Cyndaquil ┆ null            ┆ Fire   ┆ … ┆ 60      ┆ 50      ┆ 65    ┆ 2          │\n",
       "│ 156 ┆ Quilava   ┆ null            ┆ Fire   ┆ … ┆ 80      ┆ 65      ┆ 80    ┆ 2          │\n",
       "│ …   ┆ …         ┆ …               ┆ …      ┆ … ┆ …       ┆ …       ┆ …     ┆ …          │\n",
       "│ 647 ┆ Keldeo    ┆ Ordinary Form   ┆ Water  ┆ … ┆ 129     ┆ 90      ┆ 108   ┆ 5          │\n",
       "│ 647 ┆ Keldeo    ┆ Resolute Form   ┆ Water  ┆ … ┆ 129     ┆ 90      ┆ 108   ┆ 5          │\n",
       "│ 648 ┆ Meloetta  ┆ Aria Forme      ┆ Normal ┆ … ┆ 128     ┆ 128     ┆ 90    ┆ 5          │\n",
       "│ 648 ┆ Meloetta  ┆ Pirouette Forme ┆ Normal ┆ … ┆ 77      ┆ 77      ┆ 128   ┆ 5          │\n",
       "│ 649 ┆ Genesect  ┆ null            ┆ Bug    ┆ … ┆ 120     ┆ 95      ┆ 99    ┆ 5          │\n",
       "└─────┴───────────┴─────────────────┴────────┴───┴─────────┴─────────┴───────┴────────────┘"
      ]
     },
     "execution_count": 9,
     "metadata": {},
     "output_type": "execute_result"
    }
   ],
   "source": [
    "df_1 = df.filter(pl.col(\"Generation\") == \"2\")\n",
    "df_2 = df.filter(pl.col(\"Generation\") == \"3\")\n",
    "df_3 = df.filter(pl.col(\"Generation\") == \"5\")\n",
    "\n",
    "stack_df = pl.concat([df_1, df_2])\n",
    "stack_df = stack_df.vstack(df_3)\n",
    "\n",
    "stack_df"
   ]
  },
  {
   "cell_type": "markdown",
   "id": "9fef1e97-114f-48b0-844b-2f247cdfe528",
   "metadata": {},
   "source": [
    "### Exercise 2h(ard)\n",
    "Create a DataFrame with the three Pokémon with the highest Attack stat per generation sorted by their speed stat. Remember: you can pipe functions!\n"
   ]
  },
  {
   "cell_type": "code",
   "execution_count": 10,
   "id": "8bfb0e95-341e-4d3f-aaae-360229de26e3",
   "metadata": {},
   "outputs": [
    {
     "data": {
      "text/html": [
       "<div><style>\n",
       ".dataframe > thead > tr,\n",
       ".dataframe > tbody > tr {\n",
       "  text-align: right;\n",
       "  white-space: pre-wrap;\n",
       "}\n",
       "</style>\n",
       "<small>shape: (27, 13)</small><table border=\"1\" class=\"dataframe\"><thead><tr><th>Generation</th><th>ID</th><th>Name</th><th>Form</th><th>Type1</th><th>Type2</th><th>Total</th><th>HP</th><th>Attack</th><th>Defense</th><th>Sp. Atk</th><th>Sp. Def</th><th>Speed</th></tr><tr><td>cat</td><td>i64</td><td>str</td><td>str</td><td>str</td><td>str</td><td>i64</td><td>i64</td><td>i64</td><td>i64</td><td>i64</td><td>i64</td><td>i64</td></tr></thead><tbody><tr><td>&quot;1&quot;</td><td>68</td><td>&quot;Machamp&quot;</td><td>null</td><td>&quot;Fighting&quot;</td><td>null</td><td>505</td><td>90</td><td>130</td><td>80</td><td>65</td><td>85</td><td>55</td></tr><tr><td>&quot;1&quot;</td><td>99</td><td>&quot;Kingler&quot;</td><td>null</td><td>&quot;Water&quot;</td><td>null</td><td>475</td><td>55</td><td>130</td><td>115</td><td>50</td><td>50</td><td>75</td></tr><tr><td>&quot;1&quot;</td><td>149</td><td>&quot;Dragonite&quot;</td><td>null</td><td>&quot;Dragon&quot;</td><td>&quot;Flying&quot;</td><td>600</td><td>91</td><td>134</td><td>95</td><td>100</td><td>100</td><td>80</td></tr><tr><td>&quot;2&quot;</td><td>217</td><td>&quot;Ursaring&quot;</td><td>null</td><td>&quot;Normal&quot;</td><td>null</td><td>500</td><td>90</td><td>130</td><td>75</td><td>75</td><td>75</td><td>55</td></tr><tr><td>&quot;2&quot;</td><td>248</td><td>&quot;Tyranitar&quot;</td><td>null</td><td>&quot;Rock&quot;</td><td>&quot;Dark&quot;</td><td>600</td><td>100</td><td>134</td><td>110</td><td>95</td><td>100</td><td>61</td></tr><tr><td>&quot;2&quot;</td><td>212</td><td>&quot;Scizor&quot;</td><td>null</td><td>&quot;Bug&quot;</td><td>&quot;Steel&quot;</td><td>500</td><td>70</td><td>130</td><td>100</td><td>55</td><td>80</td><td>65</td></tr><tr><td>&quot;3&quot;</td><td>383</td><td>&quot;Groudon&quot;</td><td>null</td><td>&quot;Ground&quot;</td><td>null</td><td>670</td><td>100</td><td>150</td><td>140</td><td>100</td><td>90</td><td>90</td></tr><tr><td>&quot;3&quot;</td><td>289</td><td>&quot;Slaking&quot;</td><td>null</td><td>&quot;Normal&quot;</td><td>null</td><td>670</td><td>150</td><td>160</td><td>100</td><td>95</td><td>65</td><td>100</td></tr><tr><td>&quot;3&quot;</td><td>386</td><td>&quot;Deoxys&quot;</td><td>&quot;Attack Forme&quot;</td><td>&quot;Psychic&quot;</td><td>null</td><td>600</td><td>50</td><td>180</td><td>20</td><td>180</td><td>20</td><td>150</td></tr><tr><td>&quot;4&quot;</td><td>464</td><td>&quot;Rhyperior&quot;</td><td>null</td><td>&quot;Ground&quot;</td><td>&quot;Rock&quot;</td><td>535</td><td>115</td><td>140</td><td>130</td><td>55</td><td>55</td><td>40</td></tr><tr><td>&quot;4&quot;</td><td>409</td><td>&quot;Rampardos&quot;</td><td>null</td><td>&quot;Rock&quot;</td><td>null</td><td>495</td><td>97</td><td>165</td><td>60</td><td>65</td><td>50</td><td>58</td></tr><tr><td>&quot;4&quot;</td><td>486</td><td>&quot;Regigigas&quot;</td><td>null</td><td>&quot;Normal&quot;</td><td>null</td><td>670</td><td>110</td><td>160</td><td>110</td><td>80</td><td>110</td><td>100</td></tr><tr><td>&hellip;</td><td>&hellip;</td><td>&hellip;</td><td>&hellip;</td><td>&hellip;</td><td>&hellip;</td><td>&hellip;</td><td>&hellip;</td><td>&hellip;</td><td>&hellip;</td><td>&hellip;</td><td>&hellip;</td><td>&hellip;</td></tr><tr><td>&quot;6&quot;</td><td>214</td><td>&quot;Heracross&quot;</td><td>&quot;Mega Heracross…</td><td>&quot;Bug&quot;</td><td>&quot;Fighting&quot;</td><td>600</td><td>80</td><td>185</td><td>115</td><td>40</td><td>105</td><td>75</td></tr><tr><td>&quot;6&quot;</td><td>383</td><td>&quot;Groudon&quot;</td><td>&quot;Primal Groudon…</td><td>&quot;Ground&quot;</td><td>&quot;Fire&quot;</td><td>770</td><td>100</td><td>180</td><td>160</td><td>150</td><td>90</td><td>90</td></tr><tr><td>&quot;6&quot;</td><td>150</td><td>&quot;Mewtwo&quot;</td><td>&quot;Mega Mewtwo X&quot;</td><td>&quot;Psychic&quot;</td><td>&quot;Fighting&quot;</td><td>780</td><td>106</td><td>190</td><td>100</td><td>154</td><td>100</td><td>130</td></tr><tr><td>&quot;7&quot;</td><td>800</td><td>&quot;Necrozma&quot;</td><td>&quot;Dusk Mane Necr…</td><td>&quot;Psychic&quot;</td><td>&quot;Steel&quot;</td><td>680</td><td>97</td><td>157</td><td>127</td><td>113</td><td>109</td><td>77</td></tr><tr><td>&quot;7&quot;</td><td>798</td><td>&quot;Kartana&quot;</td><td>null</td><td>&quot;Grass&quot;</td><td>&quot;Steel&quot;</td><td>570</td><td>59</td><td>181</td><td>131</td><td>59</td><td>31</td><td>109</td></tr><tr><td>&quot;7&quot;</td><td>800</td><td>&quot;Necrozma&quot;</td><td>&quot;Ultra Necrozma…</td><td>&quot;Psychic&quot;</td><td>&quot;Dragon&quot;</td><td>754</td><td>97</td><td>167</td><td>97</td><td>167</td><td>97</td><td>129</td></tr><tr><td>&quot;8&quot;</td><td>898</td><td>&quot;Calyrex&quot;</td><td>&quot;Ice Rider&quot;</td><td>&quot;Psychic&quot;</td><td>&quot;Ice&quot;</td><td>680</td><td>100</td><td>165</td><td>150</td><td>85</td><td>130</td><td>50</td></tr><tr><td>&quot;8&quot;</td><td>555</td><td>&quot;Darmanitan&quot;</td><td>&quot;Galarian Zen M…</td><td>&quot;Ice&quot;</td><td>&quot;Fire&quot;</td><td>540</td><td>105</td><td>160</td><td>55</td><td>30</td><td>55</td><td>135</td></tr><tr><td>&quot;8&quot;</td><td>888</td><td>&quot;Zacian&quot;</td><td>&quot;Crowned Sword&quot;</td><td>&quot;Fairy&quot;</td><td>&quot;Steel&quot;</td><td>700</td><td>92</td><td>150</td><td>115</td><td>80</td><td>115</td><td>148</td></tr><tr><td>&quot;9&quot;</td><td>992</td><td>&quot;Iron Hands&quot;</td><td>null</td><td>&quot;Fighting&quot;</td><td>&quot;Electric&quot;</td><td>570</td><td>154</td><td>140</td><td>108</td><td>50</td><td>68</td><td>50</td></tr><tr><td>&quot;9&quot;</td><td>998</td><td>&quot;Baxcalibur&quot;</td><td>null</td><td>&quot;Dragon&quot;</td><td>&quot;Ice&quot;</td><td>600</td><td>115</td><td>145</td><td>92</td><td>75</td><td>86</td><td>87</td></tr><tr><td>&quot;9&quot;</td><td>964</td><td>&quot;Palafin&quot;</td><td>&quot;Hero Form&quot;</td><td>&quot;Water&quot;</td><td>null</td><td>650</td><td>100</td><td>160</td><td>97</td><td>106</td><td>87</td><td>100</td></tr></tbody></table></div>"
      ],
      "text/plain": [
       "shape: (27, 13)\n",
       "┌────────────┬─────┬────────────┬───────────────────┬───┬─────────┬─────────┬─────────┬───────┐\n",
       "│ Generation ┆ ID  ┆ Name       ┆ Form              ┆ … ┆ Defense ┆ Sp. Atk ┆ Sp. Def ┆ Speed │\n",
       "│ ---        ┆ --- ┆ ---        ┆ ---               ┆   ┆ ---     ┆ ---     ┆ ---     ┆ ---   │\n",
       "│ cat        ┆ i64 ┆ str        ┆ str               ┆   ┆ i64     ┆ i64     ┆ i64     ┆ i64   │\n",
       "╞════════════╪═════╪════════════╪═══════════════════╪═══╪═════════╪═════════╪═════════╪═══════╡\n",
       "│ 1          ┆ 68  ┆ Machamp    ┆ null              ┆ … ┆ 80      ┆ 65      ┆ 85      ┆ 55    │\n",
       "│ 1          ┆ 99  ┆ Kingler    ┆ null              ┆ … ┆ 115     ┆ 50      ┆ 50      ┆ 75    │\n",
       "│ 1          ┆ 149 ┆ Dragonite  ┆ null              ┆ … ┆ 95      ┆ 100     ┆ 100     ┆ 80    │\n",
       "│ 2          ┆ 217 ┆ Ursaring   ┆ null              ┆ … ┆ 75      ┆ 75      ┆ 75      ┆ 55    │\n",
       "│ 2          ┆ 248 ┆ Tyranitar  ┆ null              ┆ … ┆ 110     ┆ 95      ┆ 100     ┆ 61    │\n",
       "│ …          ┆ …   ┆ …          ┆ …                 ┆ … ┆ …       ┆ …       ┆ …       ┆ …     │\n",
       "│ 8          ┆ 555 ┆ Darmanitan ┆ Galarian Zen Mode ┆ … ┆ 55      ┆ 30      ┆ 55      ┆ 135   │\n",
       "│ 8          ┆ 888 ┆ Zacian     ┆ Crowned Sword     ┆ … ┆ 115     ┆ 80      ┆ 115     ┆ 148   │\n",
       "│ 9          ┆ 992 ┆ Iron Hands ┆ null              ┆ … ┆ 108     ┆ 50      ┆ 68      ┆ 50    │\n",
       "│ 9          ┆ 998 ┆ Baxcalibur ┆ null              ┆ … ┆ 92      ┆ 75      ┆ 86      ┆ 87    │\n",
       "│ 9          ┆ 964 ┆ Palafin    ┆ Hero Form         ┆ … ┆ 97      ┆ 106     ┆ 87      ┆ 100   │\n",
       "└────────────┴─────┴────────────┴───────────────────┴───┴─────────┴─────────┴─────────┴───────┘"
      ]
     },
     "execution_count": 10,
     "metadata": {},
     "output_type": "execute_result"
    }
   ],
   "source": [
    "df_stronk = df.select(\n",
    "    pl.col(\"Generation\").head(3).over(\"Generation\", mapping_strategy=\"explode\"),\n",
    "    pl.col(\"*\").exclude(\"Generation\").sort_by(\"Attack\", descending=True).head(3).over(\"Generation\", mapping_strategy=\"explode\"),\n",
    ")\n",
    "\n",
    "df_stronk.with_columns(\n",
    "    pl.col(\"*\").sort_by(\"Speed\").over(\"Generation\")\n",
    ")\n"
   ]
  }
 ],
 "metadata": {
  "kernelspec": {
   "display_name": "Python 3 (ipykernel)",
   "language": "python",
   "name": "python3"
  },
  "language_info": {
   "codemirror_mode": {
    "name": "ipython",
    "version": 3
   },
   "file_extension": ".py",
   "mimetype": "text/x-python",
   "name": "python",
   "nbconvert_exporter": "python",
   "pygments_lexer": "ipython3",
   "version": "3.12.1"
  }
 },
 "nbformat": 4,
 "nbformat_minor": 5
}
