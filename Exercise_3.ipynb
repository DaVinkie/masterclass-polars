{
 "cells": [
  {
   "cell_type": "code",
   "execution_count": null,
   "id": "24f93d91-0252-4373-a79c-93ec971547db",
   "metadata": {},
   "outputs": [],
   "source": []
  }
 ],
 "metadata": {
  "kernelspec": {
   "display_name": "",
   "name": ""
  },
  "language_info": {
   "name": ""
  }
 },
 "nbformat": 4,
 "nbformat_minor": 5
}
