{
 "cells": [
  {
   "cell_type": "code",
   "execution_count": null,
   "id": "24f93d91-0252-4373-a79c-93ec971547db",
   "metadata": {},
   "outputs": [],
   "source": [
    "import polars as pl"
   ]
  },
  {
   "cell_type": "markdown",
   "id": "4f07986e-95b1-49b8-9c2e-0297186a31ee",
   "metadata": {},
   "source": [
    "# Greedy Evaluation\n",
    "Take a good look at the following transformation taking place on the Pokémon dataset. You might have noticed that this code is perfectly functional, but not yet optimized. \n",
    "\n",
    "### Exercise 3\n",
    "Optimize the code in the second function and run some timings. See if you can improve performance by yourself."
   ]
  },
  {
   "cell_type": "code",
   "execution_count": null,
   "id": "297b146a-5ba8-462a-b3af-03fc0cddf8fb",
   "metadata": {},
   "outputs": [],
   "source": [
    "def some_transformation() -> pl.DataFrame:\n",
    "    df = pl.read_csv('data/Pokemon.csv')\n",
    "    df = df.with_columns(\n",
    "        pl.col(\"Attack\").mean().over(\"Type1\").alias(\"Avg. Attack/Type\"),\n",
    "        pl.col(\"Attack\").median().over(\"Type1\").alias(\"Med. Attack/Type\")\n",
    "    ).filter(\n",
    "        (pl.col(\"HP\") > 70) &\n",
    "        (pl.col(\"Generation\") < 3)\n",
    "    ).select(\n",
    "        pl.col(\"Name\", \"Type1\", \"HP\", \"Avg. Attack/Type\", \"Med. Attack/Type\", \"Generation\")\n",
    "    ).filter(\n",
    "            pl.col(\"Med. Attack/Type\") > 60\n",
    "    )\n",
    "    return df\n",
    "\n",
    "def some_transformation_optimized() -> pl.DataFrame:\n",
    "    \"\"\" Change this code so it is better optimized \"\"\"\n",
    "    df = pl.read_csv('data/Pokemon.csv')\n",
    "    df = df.with_columns(\n",
    "        pl.col(\"Attack\").mean().over(\"Type1\").alias(\"Avg. Attack/Type\"),\n",
    "        pl.col(\"Attack\").median().over(\"Type1\").alias(\"Med. Attack/Type\")\n",
    "    ).filter(\n",
    "        (pl.col(\"HP\") > 70) &\n",
    "        (pl.col(\"Generation\") < 3)\n",
    "    ).select(\n",
    "        pl.col(\"Name\", \"Type1\", \"HP\", \"Avg. Attack/Type\", \"Med. Attack/Type\", \"Generation\")\n",
    "    ).filter(\n",
    "            pl.col(\"Med. Attack/Type\") > 60\n",
    "    )\n",
    "    return df"
   ]
  },
  {
   "cell_type": "code",
   "execution_count": null,
   "id": "65737566-b037-4c1e-8f9f-975fb6e26c07",
   "metadata": {},
   "outputs": [],
   "source": [
    "t_time = %timeit -o some_transformation()\n",
    "o_time = %timeit -o some_transformation_optimized()"
   ]
  },
  {
   "cell_type": "code",
   "execution_count": null,
   "id": "60f80dd3-4795-452d-87f7-92a63437152f",
   "metadata": {},
   "outputs": [],
   "source": [
    "import plotly.express as px\n",
    "\n",
    "data = {\n",
    "    \"sort\": [\"unoptimized\", \"optimized\"],\n",
    "    \"best\": [t_time.best, o_time.best],\n",
    "    \"mean\": [t_time.average, o_time.average]\n",
    "}\n",
    "\n",
    "fig = px.bar(data, x=\"sort\", y=\"best\", color=\"sort\")\n",
    "fig.show()\n",
    "\n",
    "fig = px.bar(data, x=\"sort\", y=\"mean\", color=\"sort\")\n",
    "fig.show()\n"
   ]
  },
  {
   "cell_type": "markdown",
   "id": "333e34bd-115e-4193-9734-9aa291160cbb",
   "metadata": {},
   "source": [
    "# Lazy Evaluation\n",
    "This brings us to, probably, one of the coolest features of Polars: lazy dataframe evaluation. During lazy evaluation, a scheme is created following 50+ years of RDMS knowledge. Polars is able to make internal optimizations - such as reading in only columns that are necessary - before evaluation. \n",
    "\n",
    "The change to use LazyFrames as they are called, is easy. DataFrames can be converted by using the .lazy() function. Some I/O options have a scan_ function. Finally, to evaluate, you pass the query to .collect() function.\n",
    "\n",
    "No exercise, this time, just look at the timings. This dataset is probably to small to make a big difference, but for larger data sets, speed ups can be very significant."
   ]
  },
  {
   "cell_type": "code",
   "execution_count": null,
   "id": "c4bd67e6-2e7b-4cb8-97ae-4f677e4dc3e9",
   "metadata": {},
   "outputs": [],
   "source": [
    "def some_transformation_eager() -> pl.DataFrame:\n",
    "    df = pl.read_csv('data/Pokemon.csv')\n",
    "    df = df.with_columns(\n",
    "        pl.col(\"Attack\").mean().over(\"Type1\").alias(\"Avg. Attack/Type\"),\n",
    "        pl.col(\"Attack\").median().over(\"Type1\").alias(\"Med. Attack/Type\")\n",
    "    ).filter(\n",
    "        (pl.col(\"HP\") > 70) &\n",
    "        (pl.col(\"Generation\") < 3)\n",
    "    ).select(\n",
    "        pl.col(\"Name\", \"Type1\", \"HP\", \"Avg. Attack/Type\", \"Med. Attack/Type\", \"Generation\")\n",
    "    ).filter(\n",
    "            pl.col(\"Med. Attack/Type\") > 60\n",
    "    )\n",
    "    \n",
    "    return df\n",
    "\n",
    "\n",
    "def some_transformation_lazy() -> pl.DataFrame:\n",
    "    q = (\n",
    "        pl.scan_csv('data/Pokemon.csv').with_columns(\n",
    "            pl.col(\"Attack\").mean().over(\"Type1\").alias(\"Avg. Attack/Type\"),\n",
    "            pl.col(\"Attack\").median().over(\"Type1\").alias(\"Med. Attack/Type\")\n",
    "        ).filter(\n",
    "            (pl.col(\"HP\") > 70) &\n",
    "            (pl.col(\"Generation\") < 3)\n",
    "        ).select(\n",
    "            pl.col(\"Name\", \"Type1\", \"HP\", \"Avg. Attack/Type\", \"Med. Attack/Type\", \"Generation\")\n",
    "        ).filter(\n",
    "            pl.col(\"Med. Attack/Type\") > 60\n",
    "        )\n",
    "    )\n",
    "    \n",
    "    return q.collect()\n",
    "\n",
    "e_time = %timeit -o some_transformation_eager()\n",
    "l_time = %timeit -o some_transformation_lazy()\n",
    "\n",
    "data = {\n",
    "    \"sort\": [\"eager\", \"lazy\"],\n",
    "    \"best\": [e_time.best, l_time.best],\n",
    "    \"mean\": [e_time.average, l_time.average]\n",
    "}\n",
    "\n",
    "fig = px.bar(data, x=\"sort\", y=\"best\", color=\"sort\")\n",
    "fig.show()\n",
    "\n",
    "fig = px.bar(data, x=\"sort\", y=\"mean\", color=\"sort\")\n",
    "fig.show()\n"
   ]
  },
  {
   "cell_type": "markdown",
   "id": "190a3aea-87cc-4db0-8763-eb2dbcc41d33",
   "metadata": {},
   "source": [
    "To see that there is something happening behind the scenes, we can print the schema's Polars has generated. As you can see, expression order has been adjusted, and not all columns are read in from the file."
   ]
  },
  {
   "cell_type": "code",
   "execution_count": null,
   "id": "a9e0816d-8498-44f8-acf0-7593ec466176",
   "metadata": {},
   "outputs": [],
   "source": [
    "q = (\n",
    "        pl.scan_csv('data/Pokemon.csv').with_columns(\n",
    "            pl.col(\"Attack\").mean().over(\"Type1\").alias(\"Avg. Attack/Type\"),\n",
    "            pl.col(\"Attack\").median().over(\"Type1\").alias(\"Med. Attack/Type\")\n",
    "        ).filter(\n",
    "            (pl.col(\"HP\") > 70) &\n",
    "            (pl.col(\"Generation\") < 3)\n",
    "        ).select(\n",
    "            pl.col(\"Name\", \"Type1\", \"HP\", \"Avg. Attack/Type\", \"Med. Attack/Type\", \"Generation\")\n",
    "        ).filter(\n",
    "            pl.col(\"Med. Attack/Type\") > 60\n",
    "        )\n",
    "    )\n",
    "\n",
    "print(q.explain(optimized=True), '\\n'*4, q.explain(optimized=False))"
   ]
  }
 ],
 "metadata": {
  "kernelspec": {
   "display_name": "Python 3 (ipykernel)",
   "language": "python",
   "name": "python3"
  },
  "language_info": {
   "codemirror_mode": {
    "name": "ipython",
    "version": 3
   },
   "file_extension": ".py",
   "mimetype": "text/x-python",
   "name": "python",
   "nbconvert_exporter": "python",
   "pygments_lexer": "ipython3",
   "version": "3.12.1"
  }
 },
 "nbformat": 4,
 "nbformat_minor": 5
}
